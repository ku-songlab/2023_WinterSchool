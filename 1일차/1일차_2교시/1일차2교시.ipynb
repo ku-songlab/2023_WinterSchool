{
  "cells": [
    {
      "cell_type": "markdown",
      "source": [
        "# 1일차 2교시 Python\n",
        "한선아\n",
        "* 참고자료  \n",
        "  * 송상헌 교수님 데이터과학원 특강 - 파이썬 프로그래밍 기초 다지기\n",
        "  * [점프 투 파이썬](https://wikidocs.net/book/1)"
      ],
      "metadata": {
        "id": "W4kL6rZj6y3J"
      }
    },
    {
      "cell_type": "markdown",
      "source": [
        "Contents\n",
        "* Part0  시작하기 : Hello world!\n",
        "\n",
        "* Part1 변수와 자료형 \n",
        "\n",
        "* Part2 조건문과 반복문 \n",
        "\n",
        "* Part3 함수 \n",
        "\n",
        "* Part4 파일처리 \n",
        "\n",
        "* Part5 GPU 사용하기"
      ],
      "metadata": {
        "id": "qwWonrv3EYWF"
      }
    },
    {
      "cell_type": "markdown",
      "source": [
        "코랩 파일 업로드 :\n",
        "* `메밀꽃필무렵.txt`\n",
        "\n"
      ],
      "metadata": {
        "id": "ErZH0zYkAhPw"
      }
    },
    {
      "cell_type": "markdown",
      "metadata": {
        "id": "xDWg47sfFGBQ"
      },
      "source": [
        "## Part 0 시작하기:    Hello World!"
      ]
    },
    {
      "cell_type": "markdown",
      "metadata": {
        "id": "-OcU8u6W0eGw"
      },
      "source": [
        "### 첫 함수, `print()`"
      ]
    },
    {
      "cell_type": "code",
      "execution_count": null,
      "metadata": {
        "id": "NqXfR654zx94",
        "outputId": "991d8088-b956-4c46-9778-6dec37846607",
        "colab": {
          "base_uri": "https://localhost:8080/"
        }
      },
      "outputs": [
        {
          "output_type": "stream",
          "name": "stdout",
          "text": [
            "Hello World!\n"
          ]
        }
      ],
      "source": [
        "# \"Hello World!\"를 출력합니다.\n",
        "print(\"Hello World!\")"
      ]
    },
    {
      "cell_type": "code",
      "execution_count": null,
      "metadata": {
        "id": "sH2yXgdH0ni3",
        "outputId": "608efb05-fcb1-425e-abf4-77c5209fe867",
        "colab": {
          "base_uri": "https://localhost:8080/"
        }
      },
      "outputs": [
        {
          "output_type": "stream",
          "name": "stdout",
          "text": [
            "나만의 텍스트를 적어보자!\n"
          ]
        }
      ],
      "source": [
        "# 원하는 텍스트를 적어 출력해보세요\n",
        "print(\"나만의 텍스트를 적어보자!\")"
      ]
    },
    {
      "cell_type": "code",
      "execution_count": null,
      "metadata": {
        "id": "_pLv_aV37-CB",
        "outputId": "d67ec54d-c64a-464b-99fe-d3efc451a0c7",
        "colab": {
          "base_uri": "https://localhost:8080/"
        }
      },
      "outputs": [
        {
          "output_type": "stream",
          "name": "stdout",
          "text": [
            "2023\n",
            "20221\n"
          ]
        }
      ],
      "source": [
        "# 숫자와 문자열의 차이\n",
        "print(2022+1)     # 숫자가 더해져 출력됩니다.\n",
        "print(\"2022\"+\"1\") # 문자열이 연결되어 출력됩니다."
      ]
    },
    {
      "cell_type": "markdown",
      "metadata": {
        "id": "if-GYqaDjYO8"
      },
      "source": [
        "## Part 1 변수와 자료형\n",
        ": 프로그래밍의 재료\n"
      ]
    },
    {
      "cell_type": "markdown",
      "metadata": {
        "id": "04dugTzHFGB9"
      },
      "source": [
        "### 1) 변수(Variable)\n",
        "* 임시 혹은 영구적으로 컴퓨터에게 값을 기억시키기 위한 저장소입니다.\n",
        "* 형태 : ` 변수_이름 = 변수에_저장할_값`\n",
        "\n",
        "     ![variable](https://www.aipython.in/wp-content/uploads/2020/02/assign_value_to_variable.png) \n",
        "* 변수의 이름 🔗[변수 네이밍 규칙](https://www.lainyzine.com/ko/article/python-variable-naming-conventions/)\n",
        "  * 사용 가능 : 대문자(A-Z), 소문자(a-z), 숫자(0-9), 언더바(_)\n",
        "  * 단, 변수의 첫 자리에는 숫자를 사용할 수 없습니다.\n",
        "  * 사용 불가능 : 파이썬 키워드 ( for, if, not 등 )\n",
        "  \n"
      ]
    },
    {
      "cell_type": "markdown",
      "source": [
        "**변수의 선언**\n",
        "* 어떠한 값을 변수에 저장하는 작업\n",
        "\n",
        "    <img src=http://www.insightkorea.co.kr/news/photo/202207/97744_94752_528.jpg height=150>\n",
        "\n"
      ],
      "metadata": {
        "id": "3o1-Ne9oI9p0"
      }
    },
    {
      "cell_type": "code",
      "execution_count": null,
      "metadata": {
        "id": "ravIo7vJjSZe"
      },
      "outputs": [],
      "source": [
        "# 문자열 \"우영우\"를 myname이라는 변수에 저장합니다. \n",
        "myname = \"우영우\""
      ]
    },
    {
      "cell_type": "markdown",
      "source": [
        "**변수의 참조**\n",
        "\n",
        "* 지어줬던 이름으로 저장한 변수를 불러오는 작업\n"
      ],
      "metadata": {
        "id": "fzgTRuNNJM3C"
      }
    },
    {
      "cell_type": "code",
      "source": [
        "# myname 변수를 불러와서 문자열을 출력합니다.\n",
        "# (대소문자 구분에 유의합니다. myname != myName)\n",
        "print(\"내 이름은 \" +myname+\".\")\n",
        "print(\"앞으로 읽어도 거꾸로 읽어도, \"+myname+\".\")\n",
        "print(\"기러기 토마토 스위스 인도인 별똥별, \"+ myname + \".. 역삼역?\")"
      ],
      "metadata": {
        "id": "oefRF0H2Fm0K",
        "outputId": "38741955-e399-4089-cd92-6e1b6da74d52",
        "colab": {
          "base_uri": "https://localhost:8080/"
        }
      },
      "execution_count": null,
      "outputs": [
        {
          "output_type": "stream",
          "name": "stdout",
          "text": [
            "내 이름은 우영우.\n",
            "앞으로 읽어도 거꾸로 읽어도, 우영우.\n",
            "기러기 토마토 스위스 인도인 별똥별, 우영우.. 역삼역?\n"
          ]
        }
      ]
    },
    {
      "cell_type": "markdown",
      "metadata": {
        "id": "s2oFm7RZFGCB"
      },
      "source": [
        "❓만약, \"이하이\"로 이름을 변경하고 싶다면 어떻게 해야할까요?\n",
        "  *   myname 변수에 저장된 값만 바꾸어 봅니다.\n",
        "\n"
      ]
    },
    {
      "cell_type": "markdown",
      "metadata": {
        "id": "FVlUkmEGoFEe"
      },
      "source": [
        "### 2) 자료형(Data types)\n",
        "자료형의 구분이 필요한 이유\n",
        "* 컴퓨터는 모든 자료를 0과 1로 처리합니다.\n",
        "* 컴퓨터는 이진수(0과 1)를 사용자가 원하는 형태의 자료로 변환해주기 위해,   \n",
        " 자료 형태의 구분을 필요로 합니다."
      ]
    },
    {
      "cell_type": "markdown",
      "metadata": {
        "id": "NAQPlkihFGCE"
      },
      "source": [
        "* 자료형을 알 수 있는 방법 : `type()` 함수"
      ]
    },
    {
      "cell_type": "code",
      "execution_count": null,
      "metadata": {
        "id": "MkMkDaxXoJY9",
        "outputId": "3f41a03a-5a1d-442b-a825-a099a39f344f",
        "colab": {
          "base_uri": "https://localhost:8080/"
        }
      },
      "outputs": [
        {
          "output_type": "stream",
          "name": "stdout",
          "text": [
            "<class 'str'>\n"
          ]
        }
      ],
      "source": [
        "# myname 변수(\"우영우\")의 자료형을 출력합니다.\n",
        "print(type(myname))"
      ]
    },
    {
      "cell_type": "markdown",
      "metadata": {
        "id": "xvQuGqnRFGCH"
      },
      "source": [
        "#### 1️⃣ 정수형(integer)\n",
        "* 말 그대로 정수를 뜻하는 자료형입니다."
      ]
    },
    {
      "cell_type": "code",
      "execution_count": null,
      "metadata": {
        "id": "2h-nhWkSokUk",
        "outputId": "3c739211-2832-4d16-e948-b9b0fe58c190",
        "colab": {
          "base_uri": "https://localhost:8080/"
        }
      },
      "outputs": [
        {
          "output_type": "stream",
          "name": "stdout",
          "text": [
            "<class 'int'>\n"
          ]
        }
      ],
      "source": [
        "# 정수 5의 자료형을 출력합니다.\n",
        "print(type(5))"
      ]
    },
    {
      "cell_type": "markdown",
      "source": [
        "**정수의 연산**\n",
        "* 나눗셈을 제외한 정수 간의 연산은 정수를 산출합니다.\n",
        "* 나눗셈의 경우, 실수를 산출합니다.     🔗 [파이썬 2.7과 파이썬3 버전별 나눗셈 차이점](http://parkjuwan.dothome.co.kr/wordpress/2017/03/19/divide-python-27-and-3/)"
      ],
      "metadata": {
        "id": "H40P3AfxL432"
      }
    },
    {
      "cell_type": "code",
      "execution_count": null,
      "metadata": {
        "id": "fBcfy5ye8F82",
        "outputId": "b40c31b9-67fb-4b45-e677-b757b30fcdb4",
        "colab": {
          "base_uri": "https://localhost:8080/"
        }
      },
      "outputs": [
        {
          "output_type": "stream",
          "name": "stdout",
          "text": [
            "7\n"
          ]
        }
      ],
      "source": [
        "# 덧셈 연산 결과를 출력합니다.\n",
        "print(5+2) "
      ]
    },
    {
      "cell_type": "code",
      "execution_count": null,
      "metadata": {
        "id": "RUE77BRE8P0V",
        "outputId": "dbfd2748-a627-4b09-c0c1-234a61c21dae",
        "colab": {
          "base_uri": "https://localhost:8080/"
        }
      },
      "outputs": [
        {
          "output_type": "stream",
          "name": "stdout",
          "text": [
            "3\n"
          ]
        }
      ],
      "source": [
        "# 뺄셈 연산 결과를 출력합니다.\n",
        "print(5-2) "
      ]
    },
    {
      "cell_type": "code",
      "execution_count": null,
      "metadata": {
        "id": "YFTU_BZi8UZr",
        "outputId": "5f85af0e-ba5e-4349-e903-20a3474ce92f",
        "colab": {
          "base_uri": "https://localhost:8080/"
        }
      },
      "outputs": [
        {
          "output_type": "stream",
          "name": "stdout",
          "text": [
            "10\n"
          ]
        }
      ],
      "source": [
        "# 곱셈 연산 결과를 출력합니다.\n",
        "print(5*2)"
      ]
    },
    {
      "cell_type": "code",
      "execution_count": null,
      "metadata": {
        "id": "Up7y4Yso8WsI",
        "outputId": "22f49606-76bf-4499-f42e-fc9f65b0f0e0",
        "colab": {
          "base_uri": "https://localhost:8080/"
        }
      },
      "outputs": [
        {
          "output_type": "stream",
          "name": "stdout",
          "text": [
            "2.5\n"
          ]
        }
      ],
      "source": [
        "# 나눗셈 연산 결과를 출력합니다.\n",
        "print(5/2)"
      ]
    },
    {
      "cell_type": "markdown",
      "metadata": {
        "id": "1R8vGm3eFGCI"
      },
      "source": [
        "#### 2️⃣ 실수형(float)\n",
        "* 소수점이 포함된 숫자를 말합니다.\n",
        "* 실수형 간의 연산은 실수를 반환합니다."
      ]
    },
    {
      "cell_type": "code",
      "execution_count": null,
      "metadata": {
        "id": "PJyh8y4Won0Z",
        "outputId": "cabfb46a-316e-4261-ef24-6323074b437d",
        "colab": {
          "base_uri": "https://localhost:8080/"
        }
      },
      "outputs": [
        {
          "output_type": "stream",
          "name": "stdout",
          "text": [
            "<class 'float'>\n"
          ]
        }
      ],
      "source": [
        "# 소수 2.5의 자료형을 출력합니다.\n",
        "print(type(2.5))"
      ]
    },
    {
      "cell_type": "markdown",
      "metadata": {
        "id": "X125FJIgFGCK"
      },
      "source": [
        "#### 3️⃣ 문자열(String)\n",
        "* 문자, 단어 등으로 구성되어 따옴표로 둘러싸인 것\n",
        "* 따옴표 사용\n",
        "\n",
        "  * 쌍따옴표(\"), 홑따옴표(') 모두 상관없지만, 혼용은 불가능합니다.\n",
        "  * 둥근 따옴표(“ ”)는 사용할 수 없습니다. (문서 파일에서 붙여넣기 시 주의)"
      ]
    },
    {
      "cell_type": "code",
      "execution_count": null,
      "metadata": {
        "id": "PgWy4mkuFGCL",
        "outputId": "f7e3a1ff-c8fe-4750-c217-cccea40a15d1",
        "colab": {
          "base_uri": "https://localhost:8080/"
        }
      },
      "outputs": [
        {
          "output_type": "stream",
          "name": "stdout",
          "text": [
            "<class 'str'>\n"
          ]
        }
      ],
      "source": [
        "# 문자열 \"hello\"의 자료형을 출력합니다.\n",
        "print(type(\"hello\"))"
      ]
    },
    {
      "cell_type": "markdown",
      "metadata": {
        "id": "kEsIRh6lhCyz"
      },
      "source": [
        "**문자열의 연산**\n",
        "* 파이썬에서는 문자열을 더하거나 곱할 수 있습니다."
      ]
    },
    {
      "cell_type": "code",
      "execution_count": null,
      "metadata": {
        "id": "ybjxjb4fhGcM",
        "outputId": "6db4dc50-efb0-4de2-e112-4c1b51ac0e48",
        "colab": {
          "base_uri": "https://localhost:8080/"
        }
      },
      "outputs": [
        {
          "output_type": "stream",
          "name": "stdout",
          "text": [
            "KoreaUniversity\n"
          ]
        }
      ],
      "source": [
        "# \"Korea\"와 \"University\"를 연결하여 출력합니다.\n",
        "print(\"Korea\"+\"University\")"
      ]
    },
    {
      "cell_type": "code",
      "execution_count": null,
      "metadata": {
        "id": "oLpLa-1MhJzg",
        "outputId": "680fe5a3-524d-4197-8a7b-92388852624c",
        "colab": {
          "base_uri": "https://localhost:8080/"
        }
      },
      "outputs": [
        {
          "output_type": "stream",
          "name": "stdout",
          "text": [
            "KoreaKoreaKorea\n"
          ]
        }
      ],
      "source": [
        "# \"Korea\"를 3번 출력합니다.\n",
        "print(\"Korea\"*3)"
      ]
    },
    {
      "cell_type": "code",
      "source": [
        "# 숫자가 포함된 문자열 연산 시 주의합니다.\n",
        "print(\"2022\"+\"1\")"
      ],
      "metadata": {
        "id": "odRiU_m4G3nW",
        "outputId": "2dbbacaf-c919-4eb6-9d92-c79f0e7ca1e1",
        "colab": {
          "base_uri": "https://localhost:8080/"
        }
      },
      "execution_count": null,
      "outputs": [
        {
          "output_type": "stream",
          "name": "stdout",
          "text": [
            "20221\n"
          ]
        }
      ]
    },
    {
      "cell_type": "markdown",
      "source": [
        " **문자열의 인덱싱과 슬라이싱**   \n",
        " \n",
        ": 문자열에서 원하는 부분을 가져옵니다.\n"
      ],
      "metadata": {
        "id": "00PdG-K-synO"
      }
    },
    {
      "cell_type": "code",
      "execution_count": null,
      "metadata": {
        "id": "wDU1jTq6sxc7"
      },
      "outputs": [],
      "source": [
        "myStr = \"파이썬 프로그래밍 기초 다지기!\""
      ]
    },
    {
      "cell_type": "markdown",
      "metadata": {
        "id": "7tiEdaUQsxc6"
      },
      "source": [
        "\n",
        "\n",
        "* 인덱싱(indexing) : '가리키기'\n",
        "\n",
        "  > ⚠️ [주의] 프로그래밍 언어의 인덱스는 0부터 시작합니다.\n"
      ]
    },
    {
      "cell_type": "markdown",
      "source": [
        "<img src=\"https://i.imgur.com/oKzX60S.png\" width=850>"
      ],
      "metadata": {
        "id": "hs2IveXBQ1-z"
      }
    },
    {
      "cell_type": "code",
      "execution_count": null,
      "metadata": {
        "id": "AJXsc6vBsxc8",
        "outputId": "f20f70fa-e276-40f2-df2d-4d997e5f6f85",
        "colab": {
          "base_uri": "https://localhost:8080/"
        }
      },
      "outputs": [
        {
          "output_type": "stream",
          "name": "stdout",
          "text": [
            "index 0 :  파\n",
            "index 4 :  프\n"
          ]
        }
      ],
      "source": [
        "# myStr의 맨 앞 문자를 출력합니다.\n",
        "print(\"index 0 : \", myStr[0])\n",
        "\n",
        "# myStr의 5번째 문자를 출력합니다.\n",
        "print(\"index 4 : \", myStr[4])"
      ]
    },
    {
      "cell_type": "markdown",
      "source": [
        "* 슬라이싱(slicing) : '잘라내기'\n",
        "  > ⚠️[주의]: 끝 인덱스에 해당하는 것은 포함되지 않습니다."
      ],
      "metadata": {
        "id": "W0xQOMj1voDP"
      }
    },
    {
      "cell_type": "markdown",
      "source": [
        "<img src=\"https://i.imgur.com/oKzX60S.png\" width=850>"
      ],
      "metadata": {
        "id": "oJY9ZFd4RC21"
      }
    },
    {
      "cell_type": "code",
      "execution_count": null,
      "metadata": {
        "id": "w9ds8ZUbsxc-",
        "outputId": "0a5b3a21-1133-4dca-99e0-156abb10bd5f",
        "colab": {
          "base_uri": "https://localhost:8080/"
        }
      },
      "outputs": [
        {
          "output_type": "stream",
          "name": "stdout",
          "text": [
            "프로그래밍\n"
          ]
        }
      ],
      "source": [
        "# myStr의 인덱스 4부터 9까지의 문자열을 출력합니다.\n",
        "print(myStr[4:9])"
      ]
    },
    {
      "cell_type": "code",
      "execution_count": null,
      "metadata": {
        "id": "9LbNZu3Usxc9",
        "outputId": "877c755e-30e9-4290-d28d-b88cef5401f6",
        "colab": {
          "base_uri": "https://localhost:8080/"
        }
      },
      "outputs": [
        {
          "output_type": "stream",
          "name": "stdout",
          "text": [
            "파이썬\n",
            " 프로그래밍 기초 다지기!\n"
          ]
        }
      ],
      "source": [
        "# myStr의 앞 3개의 문자열을 출력합니다. (인덱스 3 공백이 포함되지 않습니다.)\n",
        "print(myStr[:3])\n",
        "# myStr의 인덱스 3부터 끝까지 출력합니다.\n",
        "print(myStr[3:])"
      ]
    },
    {
      "cell_type": "markdown",
      "metadata": {
        "id": "YcT8ys4UFGCM"
      },
      "source": [
        "#### 4️⃣ 논리형(boolean)\n",
        "* 참(True)과 거짓(False)를 나타내는 자료형입니다.\n",
        "* 불(bool) 자료형이라고도 합니다.\n",
        "\n",
        "* George Boole\n",
        "\n",
        "     <img src=\"https://upload.wikimedia.org/wikipedia/commons/thumb/c/ce/George_Boole_color.jpg/330px-George_Boole_color.jpg\" height = 200>   \n",
        "\n",
        "     * 이미지출처: 🔗[조지 불 - 위키백과](https://ko.wikipedia.org/wiki/%EC%A1%B0%EC%A7%80_%EB%B6%88)"
      ]
    },
    {
      "cell_type": "code",
      "execution_count": null,
      "metadata": {
        "id": "FX_hkIyoqwKt",
        "outputId": "3af756b4-faea-498a-b23a-b9ceda9d304f",
        "colab": {
          "base_uri": "https://localhost:8080/"
        }
      },
      "outputs": [
        {
          "output_type": "stream",
          "name": "stdout",
          "text": [
            "<class 'bool'>\n"
          ]
        }
      ],
      "source": [
        "# 참(True)의 자료형을 출력합니다. \n",
        "print(type(True))                 "
      ]
    },
    {
      "cell_type": "code",
      "source": [
        "print(type(true))   #True의 첫 글자는 대문자로 써야합니다."
      ],
      "metadata": {
        "colab": {
          "base_uri": "https://localhost:8080/",
          "height": 176
        },
        "id": "l0cnz8bGVSA9",
        "outputId": "40646a0c-f608-4509-b6f3-30a80510751c"
      },
      "execution_count": null,
      "outputs": [
        {
          "output_type": "error",
          "ename": "NameError",
          "evalue": "ignored",
          "traceback": [
            "\u001b[0;31m---------------------------------------------------------------------------\u001b[0m",
            "\u001b[0;31mNameError\u001b[0m                                 Traceback (most recent call last)",
            "\u001b[0;32m<ipython-input-38-b6cb65f62855>\u001b[0m in \u001b[0;36m<module>\u001b[0;34m\u001b[0m\n\u001b[0;32m----> 1\u001b[0;31m \u001b[0mprint\u001b[0m\u001b[0;34m(\u001b[0m\u001b[0mtype\u001b[0m\u001b[0;34m(\u001b[0m\u001b[0mtrue\u001b[0m\u001b[0;34m)\u001b[0m\u001b[0;34m)\u001b[0m   \u001b[0;31m#True의 첫 글자는 대문자로 써야합니다.\u001b[0m\u001b[0;34m\u001b[0m\u001b[0;34m\u001b[0m\u001b[0m\n\u001b[0m",
            "\u001b[0;31mNameError\u001b[0m: name 'true' is not defined"
          ]
        }
      ]
    },
    {
      "cell_type": "markdown",
      "metadata": {
        "id": "p7K0uw02FGCN"
      },
      "source": [
        "* 비교연산자( ==, !=, \\>, < 등)를 사용해 논리형을 표현하기도 \n",
        "합니다.\n",
        "🔗 [비교 연산자 목록](https://wikidocs.net/1159)\n"
      ]
    },
    {
      "cell_type": "code",
      "execution_count": null,
      "metadata": {
        "id": "cvbQcTCFhqE_",
        "outputId": "e93f4d96-5e3e-403d-ce93-8ca33ec6dc62",
        "colab": {
          "base_uri": "https://localhost:8080/"
        }
      },
      "outputs": [
        {
          "output_type": "stream",
          "name": "stdout",
          "text": [
            "False\n",
            "<class 'bool'>\n"
          ]
        }
      ],
      "source": [
        "# 정수 1과 정수 2가 같은지 출력합니다.\n",
        "print(1 == 2)\n",
        "\n",
        "# `1 == 2`의 자료형을 출력합니다.\n",
        "print(type(1 == 2))"
      ]
    },
    {
      "cell_type": "code",
      "execution_count": null,
      "metadata": {
        "id": "Ysq_Yf1hhtep",
        "outputId": "bdca8403-bc86-44ee-fab3-386a43fc148c",
        "colab": {
          "base_uri": "https://localhost:8080/"
        }
      },
      "outputs": [
        {
          "output_type": "stream",
          "name": "stdout",
          "text": [
            "True\n"
          ]
        }
      ],
      "source": [
        "# 정수 3과 정수 3이 같은지 출력합니다.\n",
        "print(3 == 3)"
      ]
    },
    {
      "cell_type": "code",
      "execution_count": null,
      "metadata": {
        "id": "BzzGsK-vhuYr",
        "outputId": "56de33ec-76f4-418d-9663-850196013fb9",
        "colab": {
          "base_uri": "https://localhost:8080/"
        }
      },
      "outputs": [
        {
          "output_type": "stream",
          "name": "stdout",
          "text": [
            "False\n"
          ]
        }
      ],
      "source": [
        "# 문자열 \"Korea\"와 \"Yonsei\"가 같은지 출력합니다.\n",
        "print(\"Korea\" == \"Yonsei\")"
      ]
    },
    {
      "cell_type": "code",
      "execution_count": null,
      "metadata": {
        "id": "4XzUFOOLh1hb",
        "outputId": "c46742b4-affc-4126-8aba-8413b3502442",
        "colab": {
          "base_uri": "https://localhost:8080/"
        }
      },
      "outputs": [
        {
          "output_type": "stream",
          "name": "stdout",
          "text": [
            "True\n"
          ]
        }
      ],
      "source": [
        "# 문자열 \"Korea\"와 \"Yonsei\"가 다른지 출력합니다.\n",
        "print(\"Korea\" != \"Yonsei\")"
      ]
    },
    {
      "cell_type": "markdown",
      "metadata": {
        "id": "7ehrdc8tpCQ_"
      },
      "source": [
        "#### 5️⃣ 리스트(list)\n",
        "* 변수의 모음을 간편하게 참조할 수 있는 자료형입니다.   \n",
        "* 형태 : `[a, b, c, d, e]`   \n",
        "대괄호 [ ] 를 이용하여 그 사이에 변수명을 넣고, 쉼표를 이용해서 변수들을 구분합니다.\n"
      ]
    },
    {
      "cell_type": "markdown",
      "source": [
        "\n",
        " **리스트의 특징**\n",
        "* 수정/삭제가 가능합니다.\n",
        "* 변수의 순서를 구분합니다.\n",
        "* ⭐ 변수가 중복되어 들어갈 수 있습니다."
      ],
      "metadata": {
        "id": "EGHxjHFBGA_d"
      }
    },
    {
      "cell_type": "code",
      "execution_count": null,
      "metadata": {
        "id": "yACdBLZPoo26",
        "outputId": "c8bb1e5f-bb12-458a-a0d3-32d3dd052d1b",
        "colab": {
          "base_uri": "https://localhost:8080/"
        }
      },
      "outputs": [
        {
          "output_type": "stream",
          "name": "stdout",
          "text": [
            "['식빵', '김밥', '시리얼', '크로플', '시리얼']\n",
            "<class 'list'>\n"
          ]
        }
      ],
      "source": [
        "# 5일동안 먹은 아침 리스트를 breakfast_list 변수에 저장합니다. \n",
        "breakfast_list = [\"식빵\", \"김밥\", \"시리얼\", \"크로플\", \"시리얼\"] # \"시리얼\" 중복\n",
        "\n",
        "# breakfast_list와 그 자료형을 출력합니다.\n",
        "print(breakfast_list)\n",
        "print(type(breakfast_list))"
      ]
    },
    {
      "cell_type": "markdown",
      "metadata": {
        "id": "1J9YWCBaFGCT"
      },
      "source": [
        "**리스트의 요소 수정/삭제하기**\n",
        "* 리스트에 내장된 함수를 사용해 수정 및 삭제합니다.\n",
        "\n",
        "    * `list.append()` : 리스트에 요소 추가 \n",
        "    * `list.remove()` : 리스트의 요소 삭제"
      ]
    },
    {
      "cell_type": "code",
      "execution_count": null,
      "metadata": {
        "id": "T8Dm9tSepKEp",
        "outputId": "55ffdc6e-2567-439b-e5b9-fb03bac450e5",
        "colab": {
          "base_uri": "https://localhost:8080/"
        }
      },
      "outputs": [
        {
          "output_type": "stream",
          "name": "stdout",
          "text": [
            "['식빵', '김밥', '시리얼', '크로플', '시리얼', '핫케이크']\n"
          ]
        }
      ],
      "source": [
        "# breakfast_list에 6일차 메뉴로 \"핫케이크\"를 추가합니다.\n",
        "breakfast_list.append(\"핫케이크\")\n",
        "\n",
        "print(breakfast_list)"
      ]
    },
    {
      "cell_type": "code",
      "execution_count": null,
      "metadata": {
        "id": "NLsCfUC7paif",
        "outputId": "d9e7d0c7-f0a6-41f2-9914-51fe88694044",
        "colab": {
          "base_uri": "https://localhost:8080/"
        }
      },
      "outputs": [
        {
          "output_type": "stream",
          "name": "stdout",
          "text": [
            "['식빵', '김밥', '시리얼', '크로플', '시리얼']\n"
          ]
        }
      ],
      "source": [
        "# brakfast_list에서 6일차 메뉴 \"핫케이크\"를 삭제합니다.\n",
        "breakfast_list.remove(\"핫케이크\")\n",
        "\n",
        "print(breakfast_list)"
      ]
    },
    {
      "cell_type": "markdown",
      "source": [
        "**리스트의 인덱싱과 슬라이싱**"
      ],
      "metadata": {
        "id": "oE2hxKlMAZO4"
      }
    },
    {
      "cell_type": "markdown",
      "source": [
        "<img src=\"https://i.imgur.com/Wkvotlz.png\" width=500>"
      ],
      "metadata": {
        "id": "zsYc3pqeTmlu"
      }
    },
    {
      "cell_type": "markdown",
      "source": [
        "리스트 인덱싱"
      ],
      "metadata": {
        "id": "weF_2l8f_Ne8"
      }
    },
    {
      "cell_type": "code",
      "source": [
        "# breakfast_list의 맨 앞 메뉴를 출력합니다.\n",
        "print(breakfast_list[0])"
      ],
      "metadata": {
        "id": "r4pzZ-UoAb1l",
        "outputId": "cd6822cb-760b-4814-a6a4-4df1561dbb18",
        "colab": {
          "base_uri": "https://localhost:8080/"
        }
      },
      "execution_count": null,
      "outputs": [
        {
          "output_type": "stream",
          "name": "stdout",
          "text": [
            "식빵\n"
          ]
        }
      ]
    },
    {
      "cell_type": "markdown",
      "source": [
        "리스트 슬라이싱"
      ],
      "metadata": {
        "id": "9y-3AN8t_O22"
      }
    },
    {
      "cell_type": "code",
      "source": [
        "# breakfast_list의 인덱스 1부터 4까지의 메뉴를 출력합니다.\n",
        "print(breakfast_list[1:4])"
      ],
      "metadata": {
        "id": "Qnehrfg6AfiG",
        "outputId": "2f9bf747-63ec-48cf-a474-134694ab4d45",
        "colab": {
          "base_uri": "https://localhost:8080/"
        }
      },
      "execution_count": null,
      "outputs": [
        {
          "output_type": "stream",
          "name": "stdout",
          "text": [
            "['김밥', '시리얼', '크로플']\n"
          ]
        }
      ]
    },
    {
      "cell_type": "markdown",
      "metadata": {
        "id": "wbR5TDRmpo6f"
      },
      "source": [
        "#### 6️⃣ 집합(set)\n",
        "* 집합에 관련된 것을 쉽게 처리하기 위해 만들어진 자료형입니다.\n",
        "* 형태 : `{a, b, c}`\n"
      ]
    },
    {
      "cell_type": "markdown",
      "source": [
        " **집합(set)의 특징**\n",
        "* 수정/삭제가 가능합니다.\n",
        "* 변수의 순서를 구분하지 않습니다.\n",
        "* ⭐ 중복을 허용하지 않습니다."
      ],
      "metadata": {
        "id": "0-Osum_k-EhC"
      }
    },
    {
      "cell_type": "markdown",
      "source": [
        " **집합의 연산**"
      ],
      "metadata": {
        "id": "lq27Pjnh9G-J"
      }
    },
    {
      "cell_type": "code",
      "source": [
        "set1 = {'A', 'B', 'C'}\n",
        "set2 = {'C', 'D', 'E'}\n",
        "\n",
        "# 두 집합 set1과 set2의 자료형을 출력합니다.\n",
        "print(type(set1), type(set2))"
      ],
      "metadata": {
        "id": "Wn7IOq1x8-Hg",
        "outputId": "6ff9f4ab-821c-41c5-9789-71567d61bbe0",
        "colab": {
          "base_uri": "https://localhost:8080/"
        }
      },
      "execution_count": null,
      "outputs": [
        {
          "output_type": "stream",
          "name": "stdout",
          "text": [
            "<class 'set'> <class 'set'>\n"
          ]
        }
      ]
    },
    {
      "cell_type": "code",
      "source": [
        "# 합집합 결과를 출력합니다.\n",
        "print(set1 | set2)"
      ],
      "metadata": {
        "id": "on4InXoB9Njh",
        "outputId": "6573d4f4-8271-429f-ad28-8b5aecd942dc",
        "colab": {
          "base_uri": "https://localhost:8080/"
        }
      },
      "execution_count": null,
      "outputs": [
        {
          "output_type": "stream",
          "name": "stdout",
          "text": [
            "{'D', 'C', 'B', 'A', 'E'}\n"
          ]
        }
      ]
    },
    {
      "cell_type": "code",
      "source": [
        "# 교집합 결과를 출력합니다.\n",
        "print(set1 & set2)"
      ],
      "metadata": {
        "id": "-ajq4bgt9av7",
        "outputId": "3b556fdb-d3a2-4d79-9b9c-9ce14e94ee50",
        "colab": {
          "base_uri": "https://localhost:8080/"
        }
      },
      "execution_count": null,
      "outputs": [
        {
          "output_type": "stream",
          "name": "stdout",
          "text": [
            "{'C'}\n"
          ]
        }
      ]
    },
    {
      "cell_type": "code",
      "source": [
        "# 차집합 결과를 출력합니다.\n",
        "print(set1 - set2)"
      ],
      "metadata": {
        "id": "kdxeu78-9yRY",
        "outputId": "542a38bb-e850-4307-90c0-d829daa6c753",
        "colab": {
          "base_uri": "https://localhost:8080/"
        }
      },
      "execution_count": null,
      "outputs": [
        {
          "output_type": "stream",
          "name": "stdout",
          "text": [
            "{'B', 'A'}\n"
          ]
        }
      ]
    },
    {
      "cell_type": "markdown",
      "source": [
        "**집합의 요소 수정/삭제하기**\n",
        "* 집합에 내장된 함수를 사용해 수정 및 삭제합니다.\n",
        "\n",
        "    * `set.add()` : 집합에 요소를 추가합니다.\n",
        "    * `set.remove()` : 집합의 요소를 삭제합니다."
      ],
      "metadata": {
        "id": "dEckLQFS5xAi"
      }
    },
    {
      "cell_type": "markdown",
      "source": [
        "<img src=\"https://i.imgur.com/rtO8zRx.png\" height=250>"
      ],
      "metadata": {
        "id": "nJRmrLifVRSm"
      }
    },
    {
      "cell_type": "code",
      "execution_count": null,
      "metadata": {
        "id": "USDWAmtDpgEl",
        "outputId": "33a28940-60ef-4c58-fcaf-fb0dc065e211",
        "colab": {
          "base_uri": "https://localhost:8080/"
        }
      },
      "outputs": [
        {
          "output_type": "stream",
          "name": "stdout",
          "text": [
            "{'식빵', '시리얼', '김밥', '크로플'}\n",
            "<class 'set'>\n"
          ]
        }
      ],
      "source": [
        "# 리스트를 set으로 바꾸어 중복을 제거합니다.\n",
        "breakfast_set = set([\"식빵\", \"김밥\", \"시리얼\", \"크로플\", \"시리얼\"])\n",
        "\n",
        "print(breakfast_set)    # 다른 순서로 출력됩니다.\n",
        "print(type(breakfast_set))"
      ]
    },
    {
      "cell_type": "code",
      "execution_count": null,
      "metadata": {
        "id": "3g69A1cWp9Nk",
        "outputId": "0938602b-c4b4-4c9c-8124-38f84452867f",
        "colab": {
          "base_uri": "https://localhost:8080/"
        }
      },
      "outputs": [
        {
          "output_type": "stream",
          "name": "stdout",
          "text": [
            "{'식빵', '핫케이크', '김밥', '크로플', '시리얼'}\n"
          ]
        }
      ],
      "source": [
        "# breakfast_set에 :\"핫케이크\"를 추가합니다.\n",
        "breakfast_set.add(\"핫케이크\")\n",
        "\n",
        "print(breakfast_set) # 다른 순서로 출력됩니다."
      ]
    },
    {
      "cell_type": "code",
      "execution_count": null,
      "metadata": {
        "id": "ESZxalOhqM0L",
        "outputId": "f7ed4fc6-9a59-49a6-e52c-611ef0fbc4f1",
        "colab": {
          "base_uri": "https://localhost:8080/"
        }
      },
      "outputs": [
        {
          "output_type": "stream",
          "name": "stdout",
          "text": [
            "{'식빵', '핫케이크', '김밥', '크로플', '시리얼'}\n"
          ]
        }
      ],
      "source": [
        "# 이미 set에 존재하는 \"김밥\"은 추가되지 않습니다.\n",
        "breakfast_set.add(\"김밥\")\n",
        "\n",
        "print(breakfast_set)"
      ]
    },
    {
      "cell_type": "code",
      "execution_count": null,
      "metadata": {
        "id": "5iJ4AzpfqRDz",
        "outputId": "22002f05-c206-435c-bbef-456a1985158a",
        "colab": {
          "base_uri": "https://localhost:8080/"
        }
      },
      "outputs": [
        {
          "output_type": "stream",
          "name": "stdout",
          "text": [
            "{'식빵', '김밥', '크로플', '시리얼'}\n"
          ]
        }
      ],
      "source": [
        "# breafast_set에서 \"핫케이크\"를 제거합니다.\n",
        "breakfast_set.remove(\"핫케이크\")\n",
        "\n",
        "print(breakfast_set)"
      ]
    },
    {
      "cell_type": "markdown",
      "metadata": {
        "id": "itF_zIyDFGCZ"
      },
      "source": [
        "#### 7️⃣ 딕셔너리(dictionary)\n",
        "\n",
        "![dictionary](https://iq.opengenus.org/content/images/2020/10/dictionary.png)\n",
        "\n",
        "* unique한 key와, 해당 key에 해당하는 value로 이루어져 있습니다.\n",
        "* 형태 : `{key1 : value1, key2 : value2, key3 : value3}`   \n",
        "\n",
        "  중괄호를 이용하여 변수명을 넣고, 콜론 :을 이용하여 key와 value를 구분합니다.   \n",
        "\n",
        "   각 `key:value` 쌍은 쉼표로 구분합니다.\n",
        "\n"
      ]
    },
    {
      "cell_type": "code",
      "source": [
        "# key가 과목, value가 점수인 myScore_dict를 생성합니다.\n",
        "myScore_dict = {\"수학\":100, \"영어\":95, \"국어\":90}\n",
        "\n",
        "print(myScore_dict)\n",
        "print(type(myScore_dict))"
      ],
      "metadata": {
        "id": "qEhk3bJz_85S",
        "outputId": "bfc59a91-29a4-4e25-c702-d49b9d2cf4a8",
        "colab": {
          "base_uri": "https://localhost:8080/"
        }
      },
      "execution_count": null,
      "outputs": [
        {
          "output_type": "stream",
          "name": "stdout",
          "text": [
            "{'수학': 100, '영어': 95, '국어': 90}\n",
            "<class 'dict'>\n"
          ]
        }
      ]
    },
    {
      "cell_type": "markdown",
      "source": [
        " **딕셔너리(dictionary)의 특징**\n",
        "* 수정/삭제가 가능합니다.\n",
        "* 변수의 순서를 구분하지 않습니다.(Key로만 탐색 가능합니다.)\n",
        "* 중복을 허용하지 않습니다."
      ],
      "metadata": {
        "id": "PNN_3F-rAOhz"
      }
    },
    {
      "cell_type": "markdown",
      "source": [
        "\n",
        "<img src=\"https://i.imgur.com/PaqZYTJ.png\" height=200>\n",
        "\n",
        "\n"
      ],
      "metadata": {
        "id": "9nfNpBhya2za"
      }
    },
    {
      "cell_type": "code",
      "source": [
        "# key인 \"수학\"으로 myScore를 탐색합니다. \n",
        "print(myScore_dict[\"수학\"])"
      ],
      "metadata": {
        "id": "Sgarbt9-A0vL",
        "outputId": "79fce9a5-c5ef-4a90-d1ec-f834de2cc1f8",
        "colab": {
          "base_uri": "https://localhost:8080/"
        }
      },
      "execution_count": null,
      "outputs": [
        {
          "output_type": "stream",
          "name": "stdout",
          "text": [
            "100\n"
          ]
        }
      ]
    },
    {
      "cell_type": "markdown",
      "source": [
        "**딕셔너리의 요소 수정/삭제하기**"
      ],
      "metadata": {
        "id": "hu7fFS_1ZDZv"
      }
    },
    {
      "cell_type": "code",
      "source": [
        "# myScore_dict에 {\"사회\":100 } 쌍을 추가합니다.\n",
        "myScore_dict[\"사회\"] = 100\n",
        "\n",
        "print(myScore_dict)"
      ],
      "metadata": {
        "id": "LvDj7__dZE_H",
        "outputId": "9312af7a-8754-4fda-bdd7-5151a48f0a40",
        "colab": {
          "base_uri": "https://localhost:8080/"
        }
      },
      "execution_count": null,
      "outputs": [
        {
          "output_type": "stream",
          "name": "stdout",
          "text": [
            "{'수학': 100, '영어': 95, '국어': 90, '사회': 100}\n"
          ]
        }
      ]
    },
    {
      "cell_type": "code",
      "source": [
        "# myScore_dict에서 {\"사회\":100 } 쌍을 삭제합니다. \n",
        "del myScore_dict[\"사회\"]\n",
        "print(myScore_dict)"
      ],
      "metadata": {
        "id": "nTHG5vwmZVcG",
        "outputId": "89f2877b-d0db-4b52-9d92-b0da6f277357",
        "colab": {
          "base_uri": "https://localhost:8080/"
        }
      },
      "execution_count": null,
      "outputs": [
        {
          "output_type": "stream",
          "name": "stdout",
          "text": [
            "{'수학': 100, '영어': 95, '국어': 90}\n"
          ]
        }
      ]
    },
    {
      "cell_type": "markdown",
      "source": [
        "\n",
        "\n",
        "#### 8️⃣ 튜플(tuple)\n",
        "* 형태  :`(a, b, c)`   \n",
        "소괄호()를 이용하여 변수명을 넣고 쉼표를 이용해서 구분합니다.\n",
        "* 리스트와 거의 모든 면에서 유사하지만, 변수의 삽입, 수정, 삭제가 불가능하다는 차이가 있습니다."
      ],
      "metadata": {
        "id": "kGnuSpwO_6Tp"
      }
    },
    {
      "cell_type": "code",
      "source": [
        "# 과일명을 담은 튜플을 fruits 변수에 저장합니다.\n",
        "fruits = (\"사과\", \"바나나\", \"키위\", \"키위\")\n",
        "\n",
        "print(fruits)\n",
        "print(type(fruits))"
      ],
      "metadata": {
        "id": "JcBtzmCPBuFI",
        "outputId": "e9bd96d7-35c6-4cdc-85a0-c2ca0dd85be8",
        "colab": {
          "base_uri": "https://localhost:8080/"
        }
      },
      "execution_count": null,
      "outputs": [
        {
          "output_type": "stream",
          "name": "stdout",
          "text": [
            "('사과', '바나나', '키위', '키위')\n",
            "<class 'tuple'>\n"
          ]
        }
      ]
    },
    {
      "cell_type": "markdown",
      "source": [
        "**튜플(tuple)의 특징**\n",
        "* 수정/삭제가 불가능합니다.\n",
        "* 변수의 순서를 구분합니다.\n",
        "* 중복을 허용합니다."
      ],
      "metadata": {
        "id": "6zfyu7exCLfg"
      }
    },
    {
      "cell_type": "markdown",
      "source": [
        "#### 🗒️[정리] 리스트, 집합, 딕셔너리, 튜플 특징 비교\n",
        "<img src=\"https://i.imgur.com/F7YYW0i.png\" height=200>\n",
        "\n",
        "1) **순서구분** : 순서가 있으면 인덱싱, 슬라이싱이 가능합니다.\n",
        "\n",
        "| 순서있음     | 순서없음       |\n",
        "| ------------ | -------------- |\n",
        "| 리스트, 튜플 | 딕셔너리, 집합 |\n",
        "\n",
        "<br> \n",
        "2) **수정가능여부**\n",
        "\n",
        "| 수정가능                 | 수정불가 |\n",
        "| ------------------------ | -------- |\n",
        "| 리스트,   집합, 딕셔너리 | 튜플         |\n",
        "\n",
        "<br>\n",
        "\n",
        "3) **중복가능여부**\n",
        "\n",
        "| 중복가능      | 중복불가            |\n",
        "| ------------- | ------------------- |\n",
        "| 리스트, 튜플 | 집합, 딕셔너리(Key) |\n",
        "\n",
        "\n",
        "\n"
      ],
      "metadata": {
        "id": "obdiJ5O92_h5"
      }
    },
    {
      "cell_type": "markdown",
      "metadata": {
        "id": "GATe9Vg4FGCe"
      },
      "source": [
        "## Part 2 조건문과 반복문\n",
        ": 프로그램의 흐름\n",
        "* 어떠한 **조건** 을 **반복** 해서 판단하고 조건에 맞는 상황을 수행할 수 있습니다.\n",
        "* 조건문과 반복문은 프로그래밍 언어의 필수적인 문법입니다.\n",
        "\n",
        "> 프로그래밍 언어는 컴퓨터의 기능, 특히 CPU의 기능인    \n",
        "△메모리에서 데이터를 읽고,    \n",
        "△해당 데이터에 대해 조건부 논리를 수행하며,   \n",
        "△번개 같은 속도로 반복적으로 그 논리를 실행하는 데 프로그래밍 할 수 있는 방법을 제공해야 한다   \n",
        "\n",
        "출처 : [HTML은 프로그래밍 언어일까 아닐까?](https://www.codingworldnews.com)\n"
      ]
    },
    {
      "cell_type": "markdown",
      "metadata": {
        "id": "AVoVqc2wFGCf"
      },
      "source": [
        "### 1) 조건문(Conditional Statements)\n",
        "* 단일 혹은 다수의 비교연산 결과를 바탕으로 프로그램을 다르게 동작시키는 것을 말합니다.\n",
        "* 조건문은 컴퓨터가 가야할 길을 알려주는 이정표 역할을 수행합니다.\n",
        "* 형태\n",
        "  ```python\n",
        "if  조건1 :\n",
        "    조건1을 충족시 수행할 동작\n",
        "elif 조건2 :\n",
        "    조건2를 충족시 수행할 동작\n",
        "elif 조건3 :\n",
        "    .\n",
        "    .\n",
        "    .\n",
        "else :\n",
        "    앞선 조건들에 모두 해당하지 않을 경우 수행할 동작\n",
        "  ```\n",
        "  * elif는 else if라는 뜻 입니다."
      ]
    },
    {
      "cell_type": "markdown",
      "metadata": {
        "id": "NiUHjbThFGCg"
      },
      "source": [
        "> ⚠️ [주의] **콜론 :** 으로 꼭 조건문이 끝났음을 알리고, 조건에 따라 수행할 명령은 꼭 **들여쓰기**를 해야합니다."
      ]
    },
    {
      "cell_type": "markdown",
      "source": [
        "<img src=\"https://i.imgur.com/cNPrprX.png\" height=280>"
      ],
      "metadata": {
        "id": "hQphMH2mij0E"
      }
    },
    {
      "cell_type": "code",
      "execution_count": null,
      "metadata": {
        "id": "USZJ-_I6F0ur",
        "outputId": "7706a043-e88f-4056-87e2-15475906872f",
        "colab": {
          "base_uri": "https://localhost:8080/"
        }
      },
      "outputs": [
        {
          "output_type": "stream",
          "name": "stdout",
          "text": [
            "안 산다!\n"
          ]
        }
      ],
      "source": [
        "# 우유의 가격이...\n",
        "milk = 6000\n",
        "\n",
        "# 그렇다면,\n",
        "if milk == 4000:   # 우유가 4000원이면\n",
        "  print(\"한 개 산다!\")\n",
        "elif milk > 4000:  # 우유가 4000원보다 비싸면\n",
        "  print(\"안 산다!\")\n",
        "else:\n",
        "  print(\"두 개 산다!\")     # 우유가 4000원보다 싸면"
      ]
    },
    {
      "cell_type": "markdown",
      "metadata": {
        "id": "A-xDEz5TG0U9"
      },
      "source": [
        "### 2) 반복문(Loop)\n",
        "* 반복문은 동일한 명령을 반복하기 위한 것입니다.\n",
        "* 컴퓨터는 반복 작업에서 강력한 성능을 보여주므로, 반복문은 프로그래밍에서 매우 유용하고, 그만큼 중요합니다."
      ]
    },
    {
      "cell_type": "markdown",
      "metadata": {
        "id": "npuCTrGxG1xW"
      },
      "source": [
        "반복문이 없다면?"
      ]
    },
    {
      "cell_type": "code",
      "execution_count": null,
      "metadata": {
        "id": "QIiS3z4UG6VB",
        "outputId": "6519454f-f06a-4657-a2cd-123d1a44862d",
        "colab": {
          "base_uri": "https://localhost:8080/"
        }
      },
      "outputs": [
        {
          "output_type": "stream",
          "name": "stdout",
          "text": [
            "1번 편지를 보냈습니다.\n",
            "2번 편지를 보냈습니다.\n",
            "3번 편지를 보냈습니다.\n",
            "4번 편지를 보냈습니다.\n",
            "5번 편지를 보냈습니다.\n",
            "6번 편지를 보냈습니다.\n",
            "7번 편지를 보냈습니다.\n",
            "8번 편지를 보냈습니다.\n",
            "9번 편지를 보냈습니다.\n",
            "10번 편지를 보냈습니다.\n"
          ]
        }
      ],
      "source": [
        "# 비효율적으로 명령을 반복해서 적어야합니다.\n",
        "print(\"1번 편지를 보냈습니다.\")\n",
        "print(\"2번 편지를 보냈습니다.\")\n",
        "print(\"3번 편지를 보냈습니다.\")\n",
        "print(\"4번 편지를 보냈습니다.\")\n",
        "print(\"5번 편지를 보냈습니다.\")\n",
        "print(\"6번 편지를 보냈습니다.\")\n",
        "print(\"7번 편지를 보냈습니다.\")\n",
        "print(\"8번 편지를 보냈습니다.\")\n",
        "print(\"9번 편지를 보냈습니다.\")\n",
        "print(\"10번 편지를 보냈습니다.\")"
      ]
    },
    {
      "cell_type": "markdown",
      "metadata": {
        "id": "ES9c9TUiHLmF"
      },
      "source": [
        "#### 1️⃣ while 반복문\n",
        "* 주어진 조건이 만족되는 동안 같은 명령을 반복하기 위해 사용됩니다.\n",
        "* 형태\n",
        "```python\n",
        "while 조건 :\n",
        "    조건이 만족되는 동안 수행할 동작\n",
        "```"
      ]
    },
    {
      "cell_type": "code",
      "execution_count": null,
      "metadata": {
        "id": "nllyGRgfHKcb",
        "outputId": "cc9457a2-94ae-48a3-f233-1a5dde73a9ab",
        "colab": {
          "base_uri": "https://localhost:8080/"
        }
      },
      "outputs": [
        {
          "output_type": "stream",
          "name": "stdout",
          "text": [
            "1 번 편지를 보냈습니다.\n",
            "2 번 편지를 보냈습니다.\n",
            "3 번 편지를 보냈습니다.\n",
            "4 번 편지를 보냈습니다.\n",
            "5 번 편지를 보냈습니다.\n",
            "6 번 편지를 보냈습니다.\n",
            "7 번 편지를 보냈습니다.\n",
            "8 번 편지를 보냈습니다.\n",
            "9 번 편지를 보냈습니다.\n",
            "10 번 편지를 보냈습니다.\n"
          ]
        }
      ],
      "source": [
        "# 반복문에 사용되는 변수 i를 선언합니다.\n",
        "i = 0 \n",
        "\n",
        "# `i < 10` 이 만족되는 동안 출력을 반복합니다.\n",
        "while i < 10:                         \n",
        "  i += 1                              # i = i + 1 \n",
        "  print(i, \"번 편지를 보냈습니다.\")   \n"
      ]
    },
    {
      "cell_type": "markdown",
      "source": [
        "> ⚠️ [주의] 변수i가 print문의 앞에 있기때문에 0이 아닌 1부터 출력됩니다."
      ],
      "metadata": {
        "id": "W-B93fgLM8y5"
      }
    },
    {
      "cell_type": "markdown",
      "source": [
        "> 👀 [참고] While문에서 변수 변화와 출력 문자열 변화\n",
        "\n",
        " <img src=\"https://i.imgur.com/sobuIP9.png\" width=850>"
      ],
      "metadata": {
        "id": "dIgx-c7Kncda"
      }
    },
    {
      "cell_type": "markdown",
      "metadata": {
        "id": "AZ4Gzy5SFGCk"
      },
      "source": [
        "**`break` : 무한루프(infinite loop) 빠져나오기**\n",
        "* while문에서 조건을 끊임없이 만족한다면 무한루프(infinite loop)에 빠질 위험이 있습니다.\n",
        "* `break` 문은 현재 반복문에서 멈추고 강제로 빠져나오게 합니다."
      ]
    },
    {
      "cell_type": "code",
      "execution_count": null,
      "metadata": {
        "id": "vs2Duzgk_znF",
        "outputId": "b728cb4e-206b-4692-bea6-7b1014c2cf72",
        "colab": {
          "base_uri": "https://localhost:8080/"
        }
      },
      "outputs": [
        {
          "output_type": "stream",
          "name": "stdout",
          "text": [
            "1 번 편지를 보냈습니다.\n",
            "2 번 편지를 보냈습니다.\n",
            "3 번 편지를 보냈습니다.\n",
            "4 번 편지를 보냈습니다.\n",
            "5 번 편지를 보냈습니다.\n",
            "6 번 편지를 보냈습니다.\n",
            "7 번 편지를 보냈습니다.\n",
            "8 번 편지를 보냈습니다.\n",
            "9 번 편지를 보냈습니다.\n",
            "10 번 편지를 보냈습니다.\n"
          ]
        }
      ],
      "source": [
        "# 반복문에 사용되는 변수 i를 선언합니다.\n",
        "i = 0       \n",
        "\n",
        "while True:       # True를 사용해 의도적으로 무한 루프를 선언합니다.\n",
        "  if i >= 10:     # i가 10과 같거나 더 크다면\n",
        "    break         # 반복을 멈추고 while문을 빠져나옵니다.\n",
        "\n",
        "  i += 1      # i = i + 1\n",
        "  print(i, \"번 편지를 보냈습니다.\")"
      ]
    },
    {
      "cell_type": "markdown",
      "source": [
        "> 👀 [참고] While문에서 변수 변화와 출력 문자열 변화-break문\n",
        "\n",
        "<img src=\"https://i.imgur.com/36clIn9.png\" width=850>"
      ],
      "metadata": {
        "id": "zV19nDVwog-E"
      }
    },
    {
      "cell_type": "markdown",
      "metadata": {
        "id": "_RKgw0dgG4uW"
      },
      "source": [
        "#### 2️⃣ for 반복문\n",
        "* while문과 비슷하지만, 변수 선언을 동시에 할 수 있어서 문장구조가 더 직관적이고 매우 유용합니다.\n",
        "* 형태\n",
        "```python\n",
        "for 변수 in 반복가능한(iterable)변수 :\n",
        "    반복할 동작\n",
        "```\n",
        "* 함께 자주 쓰이는 `range()` 함수 : 특정 구간의 숫자의 범위를 만들어주는 함수입니다.\n"
      ]
    },
    {
      "cell_type": "code",
      "source": [
        "print(range(0, 10))\n",
        "print(list(range(0, 10)))"
      ],
      "metadata": {
        "colab": {
          "base_uri": "https://localhost:8080/"
        },
        "id": "7zFV4AGMEdSn",
        "outputId": "7a7cbed1-84f8-4b44-f7ad-c416d654fbac"
      },
      "execution_count": null,
      "outputs": [
        {
          "output_type": "stream",
          "name": "stdout",
          "text": [
            "range(0, 10)\n",
            "[0, 1, 2, 3, 4, 5, 6, 7, 8, 9]\n"
          ]
        }
      ]
    },
    {
      "cell_type": "code",
      "execution_count": null,
      "metadata": {
        "id": "QTRyhHYCHKwK",
        "outputId": "457e821d-90ae-477e-af9d-5e31e9e333a9",
        "colab": {
          "base_uri": "https://localhost:8080/"
        }
      },
      "outputs": [
        {
          "output_type": "stream",
          "name": "stdout",
          "text": [
            "1 번 편지를 보냈습니다.\n",
            "2 번 편지를 보냈습니다.\n",
            "3 번 편지를 보냈습니다.\n",
            "4 번 편지를 보냈습니다.\n",
            "5 번 편지를 보냈습니다.\n",
            "6 번 편지를 보냈습니다.\n",
            "7 번 편지를 보냈습니다.\n",
            "8 번 편지를 보냈습니다.\n",
            "9 번 편지를 보냈습니다.\n",
            "10 번 편지를 보냈습니다.\n"
          ]
        }
      ],
      "source": [
        "# 변수 i를 사용해 출력을 10번 반복합니다.\n",
        "for i in range(0, 10):                   # 변수 i는 0에서 9까지 1씩 증가합니다.\n",
        "  print(i+1, \"번 편지를 보냈습니다.\")"
      ]
    },
    {
      "cell_type": "markdown",
      "source": [
        "* for반복문에 리스트를 사용하여, 리스트의 요소가 차례로 변수에 대입됩니다."
      ],
      "metadata": {
        "id": "QNQDWR_LqST0"
      }
    },
    {
      "cell_type": "code",
      "execution_count": null,
      "metadata": {
        "id": "mT7O0RQRFGCn",
        "outputId": "c4b96b73-cb75-491b-c88a-3bcd7da31f3f",
        "colab": {
          "base_uri": "https://localhost:8080/"
        }
      },
      "outputs": [
        {
          "output_type": "stream",
          "name": "stdout",
          "text": [
            "민지에게 편지를 보냈습니다.\n",
            "해린에게 편지를 보냈습니다.\n",
            "혜인에게 편지를 보냈습니다.\n",
            "다니엘에게 편지를 보냈습니다.\n",
            "하니에게 편지를 보냈습니다.\n"
          ]
        }
      ],
      "source": [
        "friend_list = [\"민지\", \"해린\", \"혜인\", \"다니엘\", \"하니\"]\n",
        "\n",
        "# friend_list의 요소(friend)를 모두, 순서대로 사용해 출력을 반복합니다.\n",
        "for friend in friend_list:  \n",
        "  print( friend+\"에게 편지를 보냈습니다.\")"
      ]
    },
    {
      "cell_type": "markdown",
      "source": [
        "> 👀 [참고] for문에 사용할 수 있는 대표적인 반복가능한(iterable) 데이터 : string, list, tuple, range(), set, dict"
      ],
      "metadata": {
        "id": "UA0G5WRGSFwd"
      }
    },
    {
      "cell_type": "markdown",
      "metadata": {
        "id": "AGHlmR-3c920"
      },
      "source": [
        "## Part 3 함수\n",
        "1. 재료(매개변수, parameter/argument)를 입력해주면\n",
        "2. 원하는 기능을 수행하고\n",
        "3. 결과물(반환값, return)을 출력하는 것\n",
        "> 👀 [참고]\n",
        "> parameter : 함수에 입력되는 입력 변수의 \"이름\" / \n",
        "> argument :  함수에 실제로 들어가는 입력 \"값\"\n",
        "* 형태\n",
        "```python\n",
        "def 함수이름(매개변수_parameter) :\n",
        "    원하는 기능을 수행하는 코드\n",
        "    .\n",
        "    .\n",
        "    return 반환변수\n",
        "```\n",
        "* 매개변수나 반환변수가 없는 함수도 있습니다."
      ]
    },
    {
      "cell_type": "markdown",
      "metadata": {
        "id": "lKhyoz_hd8eo"
      },
      "source": [
        "**매개변수와 반환변수가 모두 없는 함수**\n",
        "* 호출하면 정해진 기능을 수행합니다."
      ]
    },
    {
      "cell_type": "markdown",
      "source": [
        "<img src=\"https://i.imgur.com/UZid9Qq.png\" height=150>"
      ],
      "metadata": {
        "id": "m-GRjz1euZ6L"
      }
    },
    {
      "cell_type": "code",
      "execution_count": null,
      "metadata": {
        "id": "KosFygOxc6W_"
      },
      "outputs": [],
      "source": [
        "# \"안녕하세요\"를 출력하는 함수\n",
        "def say_hello():\n",
        "    print(\"안녕하세요.\")"
      ]
    },
    {
      "cell_type": "code",
      "execution_count": null,
      "metadata": {
        "id": "N4Avfpl2dJDo",
        "outputId": "3eecd911-283e-415d-843c-08f6d5e5b149",
        "colab": {
          "base_uri": "https://localhost:8080/"
        }
      },
      "outputs": [
        {
          "output_type": "stream",
          "name": "stdout",
          "text": [
            "안녕하세요.\n"
          ]
        }
      ],
      "source": [
        "say_hello()"
      ]
    },
    {
      "cell_type": "markdown",
      "metadata": {
        "id": "OFQqMoA_eAvJ"
      },
      "source": [
        "**매개변수만 있는 함수**\n",
        "* 매개변수를 사용해 정해진 기능을 수행합니다."
      ]
    },
    {
      "cell_type": "markdown",
      "source": [
        "<img src=\"https://i.imgur.com/zDx5GdO.png\" height=150>"
      ],
      "metadata": {
        "id": "MwT2tk38unG-"
      }
    },
    {
      "cell_type": "code",
      "execution_count": null,
      "metadata": {
        "id": "8K8grQ81dKRA"
      },
      "outputs": [],
      "source": [
        "# 매개변수로 언어를 받아 해당 언어로 인사를 출력하는 함수\n",
        "def say_hello2(lang):  \n",
        "  if lang == \"ko\":\n",
        "    hello = \"안녕하세요\"\n",
        "  elif lang == \"en\":\n",
        "    hello = \"Hello\"\n",
        "  else :\n",
        "    hello = \"사용할 수 없는 언어입니다.\"\n",
        "    \n",
        "  print(hello)"
      ]
    },
    {
      "cell_type": "code",
      "execution_count": null,
      "metadata": {
        "id": "UI1COGfOdNbE",
        "outputId": "738d3a8a-1003-423a-f927-43761df1d403",
        "colab": {
          "base_uri": "https://localhost:8080/"
        }
      },
      "outputs": [
        {
          "output_type": "stream",
          "name": "stdout",
          "text": [
            "안녕하세요\n"
          ]
        }
      ],
      "source": [
        "say_hello2(\"ko\")  "
      ]
    },
    {
      "cell_type": "code",
      "source": [
        "say_hello2(lang=\"ko\")"
      ],
      "metadata": {
        "colab": {
          "base_uri": "https://localhost:8080/"
        },
        "id": "fTpirBPdHGTX",
        "outputId": "09ad10be-feaa-4dd7-87f5-dfa26e635a4b"
      },
      "execution_count": null,
      "outputs": [
        {
          "output_type": "stream",
          "name": "stdout",
          "text": [
            "안녕하세요\n"
          ]
        }
      ]
    },
    {
      "cell_type": "code",
      "execution_count": null,
      "metadata": {
        "id": "Nv3zmAtPdaFO",
        "outputId": "4ab2e8d0-3c81-46a2-d316-80680e314122",
        "colab": {
          "base_uri": "https://localhost:8080/"
        }
      },
      "outputs": [
        {
          "output_type": "stream",
          "name": "stdout",
          "text": [
            "Hello\n"
          ]
        }
      ],
      "source": [
        "say_hello2(lang=\"en\")"
      ]
    },
    {
      "cell_type": "code",
      "execution_count": null,
      "metadata": {
        "id": "v29tM37edber",
        "outputId": "efa34b7b-22a3-42a6-974d-13e8f45a12f3",
        "colab": {
          "base_uri": "https://localhost:8080/"
        }
      },
      "outputs": [
        {
          "output_type": "stream",
          "name": "stdout",
          "text": [
            "사용할 수 없는 언어입니다.\n"
          ]
        }
      ],
      "source": [
        "say_hello2(lang=\"jp\") "
      ]
    },
    {
      "cell_type": "code",
      "source": [
        "# 반환되는 값은 없고, 출력하는 기능만을 수행합니다.\n",
        "result = say_hello2(lang=\"ko\")\n",
        "print(result)"
      ],
      "metadata": {
        "id": "BkwxQMu1HALn",
        "outputId": "e79572db-1187-490a-8838-971689fb92f1",
        "colab": {
          "base_uri": "https://localhost:8080/"
        }
      },
      "execution_count": null,
      "outputs": [
        {
          "output_type": "stream",
          "name": "stdout",
          "text": [
            "안녕하세요\n",
            "None\n"
          ]
        }
      ]
    },
    {
      "cell_type": "markdown",
      "source": [
        "**반환변수만 있는 함수**\n",
        "* 호출하면 반환값을 반환합니다."
      ],
      "metadata": {
        "id": "U_JZHIT5Y8Wv"
      }
    },
    {
      "cell_type": "markdown",
      "source": [
        "<img src=\"https://i.imgur.com/zmuqdKI.png\" height=150>"
      ],
      "metadata": {
        "id": "-Jmx65qfuwrl"
      }
    },
    {
      "cell_type": "code",
      "source": [
        "def say_hello3() :\n",
        "  return \"hello\""
      ],
      "metadata": {
        "id": "yvCuucEHZIKx"
      },
      "execution_count": null,
      "outputs": []
    },
    {
      "cell_type": "code",
      "source": [
        "result = say_hello3()\n",
        "print(result)"
      ],
      "metadata": {
        "id": "ARjCgkVUZf_Y",
        "outputId": "ae15e2d5-a875-4338-b0c8-914f974ee34d",
        "colab": {
          "base_uri": "https://localhost:8080/"
        }
      },
      "execution_count": null,
      "outputs": [
        {
          "output_type": "stream",
          "name": "stdout",
          "text": [
            "hello\n"
          ]
        }
      ]
    },
    {
      "cell_type": "markdown",
      "metadata": {
        "id": "YZKaU0M2eDVE"
      },
      "source": [
        "**매개변수와 반환변수가 모두 있는 함수**\n",
        "* 매개변수를 사용해 정해진 기능을 수행한 뒤, 반환변수를 함수 밖으로 반환합니다."
      ]
    },
    {
      "cell_type": "markdown",
      "source": [
        "<img src=\"https://i.imgur.com/18BUw9z.png\" height=150>"
      ],
      "metadata": {
        "id": "KH3XUxXQu_XR"
      }
    },
    {
      "cell_type": "code",
      "execution_count": null,
      "metadata": {
        "id": "9SXPtqYPdeog"
      },
      "outputs": [],
      "source": [
        "def say_hello4(lang):\n",
        "  if lang == \"ko\":\n",
        "    hello = \"안녕하세요.\"\n",
        "  elif lang == \"en\":\n",
        "    hello = \"Hello\"\n",
        "  else :\n",
        "    hello = None\n",
        "  return hello"
      ]
    },
    {
      "cell_type": "code",
      "execution_count": null,
      "metadata": {
        "id": "KWszb02kdskP"
      },
      "outputs": [],
      "source": [
        "result = say_hello4(lang=\"en\") "
      ]
    },
    {
      "cell_type": "code",
      "execution_count": null,
      "metadata": {
        "id": "Jt73Itn3FGCu",
        "outputId": "8cf2c6b3-6c11-4f08-99ba-a77cb1fb81a5",
        "colab": {
          "base_uri": "https://localhost:8080/"
        }
      },
      "outputs": [
        {
          "output_type": "stream",
          "name": "stdout",
          "text": [
            "Hello\n"
          ]
        }
      ],
      "source": [
        "print(result)"
      ]
    },
    {
      "cell_type": "markdown",
      "source": [
        "## Part 4 파일처리\n",
        "* 변수는 컴퓨터의 RAM에서만 저장이 되어, **프로그램을 종료할 경우 변수는 모두 지워집니다.**\n",
        "* 보조기억장치에 **파일로 저장/불러오기**를 하면, 필요할 때마다 불러와서 사용할 수 있습니다.\n",
        "* 파일스트림(file stream) \n",
        "    * 파일은 긴 영수증 용지처럼 줄줄이 이어지는 텍스트 혹은 이진수로 이루어져 있기에 물줄기 같아 스트림(stream)이라고 불립니다."
      ],
      "metadata": {
        "id": "rF-GYo3Srpzx"
      }
    },
    {
      "cell_type": "markdown",
      "metadata": {
        "id": "KyvqoWQ0npDZ"
      },
      "source": [
        "#### 1) 파일 불러오기\n",
        "1. `open()` \n",
        "    * 1) 주어진 **경로 혹은 파일 이름**으로 \n",
        "    * 2) 목적(**파일열기모드** )에 따라 파일을 엽니다. \n",
        "    * 3) 파일 **임코딩 방식**도 매개변수로 명시해주는 습관을 들이는 것이 좋습니다.   \n",
        "    (속도와 확장성이 뛰어난 utf-8 방식을 주로 사용합니다.)\n",
        "\n",
        "    ```python\n",
        "    파일 객체 = open(\"파일 경로\", \"파일 열기 모드\", encoding=\"인코딩 방식\")\n",
        "    ```\n",
        "2. `read()` : 파일의 내용 전체를 문자열로 읽어옵니다.\n",
        "3. `close()` : 열었던 파일 닫아줍니다.\n",
        "    * 램 용양 절약을 위해 닫는 습관을 들이는 것이 좋습니다. \n",
        "    * 쓰기모드로 열었던 파일을 닫지 않고 다시 사용하려고 하면 오류가 발생합니다.\n",
        "\n",
        "**파일 열기 모드**\n",
        "\n",
        "|매개변수|파일열기모드|설명|\n",
        "|:-:|:---------:|-----------------------|\n",
        "|'r'|읽기모드|파일을 읽기만 할 때 사용|\n",
        "|'w'|쓰기모드|파일에 내용을 쓸 때 사용|\n",
        "|'a'|추가모드|파일의 마지막에 새로운 내용을 추가할 때 사용|\n"
      ]
    },
    {
      "cell_type": "markdown",
      "source": [
        "> ⚠️ [주의] 아래 코드를 정상적으로 실행하려면, 코랩 환경에 \"메밀꽃필무렵.txt\" 파일을 업로드해야합니다."
      ],
      "metadata": {
        "id": "rvHZe45mldR9"
      }
    },
    {
      "cell_type": "code",
      "execution_count": null,
      "metadata": {
        "id": "hL1iwY9JeMy7"
      },
      "outputs": [],
      "source": [
        "# \"메밀꽃필무렵.txt\"파일을 utf-8 인코딩 방식으로, 읽기모드로 열어 file 변수에 저장합니다.\n",
        "file = open(\"/content/메밀꽃필무렵.txt\", \"r\", encoding=\"utf-8\") \n",
        "\n",
        "# 가져온 파일 안에 있는 텍스트를 text 변수에 저장합니다.\n",
        "text = file.read()\n",
        "\n",
        "# 열었던 파일을 닫습니다.\n",
        "file.close() "
      ]
    },
    {
      "cell_type": "code",
      "execution_count": null,
      "metadata": {
        "id": "jLzSk59Gnxsx",
        "outputId": "8fa3fa34-7fc9-452e-a8f8-dc185b29c64e",
        "colab": {
          "base_uri": "https://localhost:8080/"
        }
      },
      "outputs": [
        {
          "output_type": "stream",
          "name": "stdout",
          "text": [
            "메밀꽃 필 무렵\n",
            " 여름장이란 애시당초에 글러서 해는 아직 중천에 있건만 장판은 벌써\n",
            "쓸쓸하고 더운 햇발이 벌려 놓은 전시장 밑으로 등줄기를 훅훅 볶는다.\n",
            "마을 사람들은 거의 돌아간 뒤요, 팔리지 못한 나무꾼 패가 길거리에\n",
            "궁싯거리고 들 있었으나, 석유 병이나 받고 고깃마리나 사면 족할 것이\n",
            "축들을 바라고 언제까지든지 버티고 있을 법은 없다. 칩칩스럽게 날아드는\n",
            "파리 떼도 장난꾼 각다귀들도 귀찮다. 얼금뱅이요 왼손잡이인 드팀전의\n",
            "허생원은 기어이 등업의 조선달을 낚구어 보았다.\n",
            " \"그만 거둘까.\"\n",
            " \"갈 생각했네. 봉평장에서 한번이나 흐뭇하게 사본 일이 있었을까.\n",
            "내일 대화 장에서나 한 몫 벌어야겠네.\"\n",
            " \"오늘밤은 밤을 새서 걸어야 될 걸.\"\n",
            " \"달이 뜨렷다.\"\n",
            " 절렁절렁 소리를 내며 조선달이 그 날 산 돈을 따지는 것을 보고\n",
            "허생원은 말뚝에서 넓은 휘장을 걷고 벌려 놓았던 물건을 거두기\n",
            "시작했다. 무명필과 주단 바리가 두 고리짝에 꼭 찼다. 멍석 위에는\n",
            "천조각이 어수선하게 남았다.\n",
            "\n"
          ]
        }
      ],
      "source": [
        "print(text[:500])"
      ]
    },
    {
      "cell_type": "markdown",
      "metadata": {
        "id": "6G-6Sd3Rn36y"
      },
      "source": [
        "#### 2) 파일 저장하기\n",
        "* `write()` : 문자열을 파일에 입력해줍니다."
      ]
    },
    {
      "cell_type": "code",
      "execution_count": null,
      "metadata": {
        "id": "CDm05vOYnzWc"
      },
      "outputs": [],
      "source": [
        "# text를 마음대로 변경해보세요\n",
        "text = \"저장하고 싶은 나만의 텍스트\"\n",
        "\n",
        "# \"나의_텍스트.txt\"라는 파일을 생성하고, 쓰기 목적으로 열어서 그 파일에 text 변수의 값을 적어 저장합니다.\n",
        "with open(\"/content/나의_텍스트.txt\", \"w\", encoding=\"utf-8\") as file:\n",
        "  file.write(text)"
      ]
    },
    {
      "cell_type": "markdown",
      "source": [
        "* with문은 파일을 열고 닫는 것을 자동으로 처리해줍니다.   \n",
        " (with 블록을 벗어나는 순간, 열린 파일 객체(file)가 자동으로 close 됩니다.)"
      ],
      "metadata": {
        "id": "1hJIH8jLndta"
      }
    },
    {
      "cell_type": "markdown",
      "metadata": {
        "id": "DS3pKEotFGCx"
      },
      "source": [
        "> #### 👀 [참고] 실습 : 텍스트 파일의 단어 개수 세기"
      ]
    },
    {
      "cell_type": "code",
      "execution_count": null,
      "metadata": {
        "id": "TsdpWrJqFGCy"
      },
      "outputs": [],
      "source": [
        "# 읽는(read) 목적으로 메밀꽃필무렵.txt 파일을 엽니다.\n",
        "file = open(\"/content/메밀꽃필무렵.txt\", \"r\", encoding=\"utf-8\") \n",
        "\n",
        "# 파일 안의 텍스트 전체를 text 변수에 담습니다.\n",
        "text = file.read()\n",
        "\n",
        "# 열었던 파일 닫아줍니다.\n",
        "file.close() "
      ]
    },
    {
      "cell_type": "code",
      "execution_count": null,
      "metadata": {
        "id": "nPtb0MTVFGCy"
      },
      "outputs": [],
      "source": [
        "# 줄바꿈을 공백으로 바꿔줍니다.(replace)\n",
        "text = text.replace('\\n', ' ')\n",
        "# 공백을 기준으로 text를 분리(split)합니다.\n",
        "word_list = text.split(' ') \n",
        "# 비어있는 문자열('')을 제외하고 실제 단어들만 word_list에 넣습니다.\n",
        "word_list = [word for word in word_list if word != '']\n",
        "\n",
        "# word_list의 앞부분 10단어를 출력합니다.\n",
        "print(word_list[:10])"
      ]
    },
    {
      "cell_type": "code",
      "execution_count": null,
      "metadata": {
        "id": "HNC7tLBXFGCy"
      },
      "outputs": [],
      "source": [
        "# words 리스트의 길이를 word_count에 저장합니다.\n",
        "word_count = len(word_list) \n",
        "\n",
        "# word_count에 담긴 값을 출력합니다.\n",
        "print(word_count)    \n",
        "\n",
        "# word_count의 자료 타입을 출력 : 정수형(int)\n",
        "print(type(word_count)) "
      ]
    },
    {
      "cell_type": "code",
      "execution_count": null,
      "metadata": {
        "id": "w_Ea-efbFGCz"
      },
      "outputs": [],
      "source": [
        "# 쓰는(write) 목적의 wordcount.txt라는 파일을 엽니다/\n",
        "wordcount_file = open(\"wordcount.txt\", 'w') "
      ]
    },
    {
      "cell_type": "code",
      "execution_count": null,
      "metadata": {
        "id": "fs3KVRIoFGCz"
      },
      "outputs": [],
      "source": [
        "# 정수형 word_count를 문자열 자료형으로 바꿉니다.\n",
        "word_count = str(word_count)\n",
        "\n",
        "# 열었던 파일에 word_count를 쓰고 저장합니다.\n",
        "wordcount_file.write('Number of words in text file :'+ word_count)"
      ]
    },
    {
      "cell_type": "code",
      "execution_count": null,
      "metadata": {
        "id": "5I5bBZp7FGC0"
      },
      "outputs": [],
      "source": [
        "# 열었던 파일을 닫아줍니다.\n",
        "wordcount_file.close()"
      ]
    },
    {
      "cell_type": "markdown",
      "metadata": {
        "id": "LR9Vhi0RFGC0"
      },
      "source": [
        "* wordcount.txt 파일에 저장된 것 확인!"
      ]
    },
    {
      "cell_type": "markdown",
      "metadata": {
        "id": "d-GNyPXwFGC0"
      },
      "source": [
        "# Part 5 GPU 사용하기"
      ]
    },
    {
      "cell_type": "code",
      "execution_count": null,
      "metadata": {
        "id": "xadoe47dFGC0",
        "outputId": "b60e17e1-4ccc-499b-90c0-536e00c8a13c",
        "colab": {
          "base_uri": "https://localhost:8080/"
        }
      },
      "outputs": [
        {
          "output_type": "stream",
          "name": "stdout",
          "text": [
            "Tue Jan 31 14:09:53 2023       \n",
            "+-----------------------------------------------------------------------------+\n",
            "| NVIDIA-SMI 510.47.03    Driver Version: 510.47.03    CUDA Version: 11.6     |\n",
            "|-------------------------------+----------------------+----------------------+\n",
            "| GPU  Name        Persistence-M| Bus-Id        Disp.A | Volatile Uncorr. ECC |\n",
            "| Fan  Temp  Perf  Pwr:Usage/Cap|         Memory-Usage | GPU-Util  Compute M. |\n",
            "|                               |                      |               MIG M. |\n",
            "|===============================+======================+======================|\n",
            "|   0  Tesla T4            Off  | 00000000:00:04.0 Off |                    0 |\n",
            "| N/A   61C    P0    27W /  70W |      0MiB / 15360MiB |      0%      Default |\n",
            "|                               |                      |                  N/A |\n",
            "+-------------------------------+----------------------+----------------------+\n",
            "                                                                               \n",
            "+-----------------------------------------------------------------------------+\n",
            "| Processes:                                                                  |\n",
            "|  GPU   GI   CI        PID   Type   Process name                  GPU Memory |\n",
            "|        ID   ID                                                   Usage      |\n",
            "|=============================================================================|\n",
            "|  No running processes found                                                 |\n",
            "+-----------------------------------------------------------------------------+\n"
          ]
        }
      ],
      "source": [
        "! nvidia-smi #GPU가 제대로 올라오는지 확인 "
      ]
    },
    {
      "cell_type": "markdown",
      "metadata": {
        "id": "G3yn6aW6RggT"
      },
      "source": [
        "GPU 설정 메뉴얼\n",
        "1. 상단의 메뉴에서 '런타임' 클릭\n",
        "2. '런타임 유형 변경' 클릭\n",
        "3. '하드웨어 가속기'의 드롭다운 메뉴에서 'GPU'선택"
      ]
    },
    {
      "cell_type": "markdown",
      "source": [
        "tensorflow 라이브러리 사용"
      ],
      "metadata": {
        "id": "EJfLj5-hKfwm"
      }
    },
    {
      "cell_type": "code",
      "execution_count": null,
      "metadata": {
        "id": "BDYoKg45G4qW",
        "outputId": "e6c81ece-9580-4bac-a4e9-2c20612a1855",
        "colab": {
          "base_uri": "https://localhost:8080/",
          "height": 36
        }
      },
      "outputs": [
        {
          "output_type": "execute_result",
          "data": {
            "text/plain": [
              "'/device:GPU:0'"
            ],
            "application/vnd.google.colaboratory.intrinsic+json": {
              "type": "string"
            }
          },
          "metadata": {},
          "execution_count": 94
        }
      ],
      "source": [
        "import tensorflow as tf\n",
        "tf.test.gpu_device_name()\n",
        "# GPU 작동 X : ''\n",
        "# GPU 작동 O : '/device:GPU:0'"
      ]
    },
    {
      "cell_type": "markdown",
      "source": [
        "torch 라이브러리 사용"
      ],
      "metadata": {
        "id": "eB14tPcCKjUc"
      }
    },
    {
      "cell_type": "code",
      "execution_count": null,
      "metadata": {
        "id": "QscbKPZeU_rr",
        "outputId": "2fa7140f-1c71-4deb-e3b9-aa7e2beb244e",
        "colab": {
          "base_uri": "https://localhost:8080/"
        }
      },
      "outputs": [
        {
          "output_type": "stream",
          "name": "stdout",
          "text": [
            "There are 1 GPU(s) available.\n",
            "We will use the GPU: Tesla T4\n"
          ]
        }
      ],
      "source": [
        "import torch #3일차\n",
        "if torch.cuda.is_available():    \n",
        "    device = torch.device(\"cuda\")\n",
        "    print('There are %d GPU(s) available.' % torch.cuda.device_count())\n",
        "    print('We will use the GPU:', torch.cuda.get_device_name(0))\n",
        "else:\n",
        "    print('No GPU available, using the CPU instead.')\n",
        "    device = torch.device(\"cpu\")"
      ]
    }
  ],
  "metadata": {
    "kernelspec": {
      "display_name": "Python 3",
      "language": "python",
      "name": "python3"
    },
    "language_info": {
      "codemirror_mode": {
        "name": "ipython",
        "version": 3
      },
      "file_extension": ".py",
      "mimetype": "text/x-python",
      "name": "python",
      "nbconvert_exporter": "python",
      "pygments_lexer": "ipython3",
      "version": "3.11.1"
    },
    "orig_nbformat": 4,
    "vscode": {
      "interpreter": {
        "hash": "26b513cc33e7b0f32234e00c3eeccc0fe2bd714cda17604d54a97c263bf3993c"
      }
    },
    "colab": {
      "provenance": [],
      "toc_visible": true
    },
    "gpuClass": "standard",
    "accelerator": "GPU"
  },
  "nbformat": 4,
  "nbformat_minor": 0
}