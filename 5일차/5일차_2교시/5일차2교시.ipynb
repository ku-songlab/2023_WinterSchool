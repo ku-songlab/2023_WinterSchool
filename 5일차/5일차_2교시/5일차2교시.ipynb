{
  "cells": [
    {
      "cell_type": "markdown",
      "id": "_kbUSCb_Egcu",
      "metadata": {
        "id": "_kbUSCb_Egcu"
      },
      "source": [
        "# 필요한 환경 불러오기"
      ]
    },
    {
      "cell_type": "markdown",
      "id": "IW4q4SOt6muD",
      "metadata": {
        "id": "IW4q4SOt6muD"
      },
      "source": [
        "## 1. 사전학습 모델을 불러오기 위한 transformers를 설치합니다."
      ]
    },
    {
      "cell_type": "code",
      "execution_count": null,
      "id": "cQwGo07vobaf",
      "metadata": {
        "id": "cQwGo07vobaf",
        "vscode": {
          "languageId": "python"
        }
      },
      "outputs": [],
      "source": [
        "!pip install transformers "
      ]
    },
    {
      "cell_type": "markdown",
      "id": "JSWtloZP6t6h",
      "metadata": {
        "id": "JSWtloZP6t6h"
      },
      "source": [
        "## 2. 필요한 모듈을 불러옵니다."
      ]
    },
    {
      "cell_type": "code",
      "execution_count": 2,
      "id": "l4rRhOHFn5z4",
      "metadata": {
        "id": "l4rRhOHFn5z4",
        "vscode": {
          "languageId": "python"
        }
      },
      "outputs": [],
      "source": [
        "from transformers import pipeline, AutoTokenizer, AutoModelForSequenceClassification\n",
        "import matplotlib.pyplot as plt\n",
        "import pandas as pd"
      ]
    },
    {
      "cell_type": "markdown",
      "id": "wdvC5hbH6dil",
      "metadata": {
        "id": "wdvC5hbH6dil"
      },
      "source": [
        "# 3. 문장 분류 "
      ]
    },
    {
      "cell_type": "markdown",
      "id": "SJl6teCfyRwu",
      "metadata": {
        "id": "SJl6teCfyRwu"
      },
      "source": [
        "## 분류기 정의하기\n",
        "- 문장들들 사이의 관계를 분류할 수 있는 classifier함수를 정의합니다."
      ]
    },
    {
      "cell_type": "code",
      "execution_count": 19,
      "id": "025ae5e4",
      "metadata": {
        "vscode": {
          "languageId": "python"
        },
        "id": "025ae5e4"
      },
      "outputs": [],
      "source": [
        "def inference_pipeline(model, premise, hypothesis):\n",
        "  classifier = pipeline(\n",
        "    \"text-classification\",\n",
        "    model,\n",
        "    top_k=None\n",
        "  )\n",
        "  \n",
        "  classifier_input = premise + '[SEP]' + hypothesis\n",
        "\n",
        "  result = classifier(classifier_input)[0]\n",
        "  # print(result)\n",
        "  entail_score = result[0]['score']\n",
        "  # print(entail_score)\n",
        "  contral_score = result[2]['score']\n",
        "  neutral_score = result[1]['score']\n",
        "\n",
        "  result_list = [entail_score, neutral_score, contral_score]\n",
        "\n",
        "  result_series = pd.Series(result_list, index = ['entailment', 'neutral', 'contradiction'])\n",
        "\n",
        "  model_pred = result_series.idxmax()\n",
        "\n",
        "  title = \"Model Prediction :\" + model_pred\n",
        "  plt.pie(result_series, autopct = '%.1f%%', shadow = True,textprops = {'fontsize':15})\n",
        "  plt.legend(labels=result_series.index, bbox_to_anchor=(0.95, 0.65))\n",
        "  plt.title(title, size = 20)\n",
        "  plt.show()"
      ]
    },
    {
      "cell_type": "markdown",
      "id": "1Hdlm2Q87P_J",
      "metadata": {
        "id": "1Hdlm2Q87P_J"
      },
      "source": [
        "# 4. 결과 확인하기"
      ]
    },
    {
      "cell_type": "code",
      "execution_count": null,
      "id": "Oax4fo_r1WUT",
      "metadata": {
        "id": "Oax4fo_r1WUT",
        "vscode": {
          "languageId": "python"
        }
      },
      "outputs": [],
      "source": [
        "model = \"brassjin/klueroberta_anli\"\n",
        "\n",
        "premise = \"\"\n",
        "hypothesis = \"\"\n",
        "\n",
        "inference_pipeline(model, premise, hypothesis)"
      ]
    }
  ],
  "metadata": {
    "accelerator": "GPU",
    "colab": {
      "provenance": [],
      "toc_visible": true
    },
    "gpuClass": "standard",
    "kernelspec": {
      "display_name": "Python 3 (ipykernel)",
      "language": "python",
      "name": "python3"
    }
  },
  "nbformat": 4,
  "nbformat_minor": 5
}