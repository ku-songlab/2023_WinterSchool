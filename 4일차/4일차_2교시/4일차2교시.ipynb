{
  "nbformat": 4,
  "nbformat_minor": 0,
  "metadata": {
    "kernelspec": {
      "name": "python3",
      "display_name": "Python 3"
    },
    "colab": {
      "provenance": [],
      "toc_visible": true
    }
  },
  "cells": [
    {
      "cell_type": "markdown",
      "metadata": {
        "id": "jS2uAco-Qemx"
      },
      "source": [
        "# Surprisal 실습"
      ]
    },
    {
      "cell_type": "markdown",
      "metadata": {
        "id": "SF1rS12-Qemy"
      },
      "source": [
        "## 초기 설정\n",
        "\n",
        "아래 셀을 실행하여 초기 설정을 수행해 주세요."
      ]
    },
    {
      "cell_type": "code",
      "metadata": {
        "id": "FXz7wm9CQinT",
        "colab": {
          "base_uri": "https://localhost:8080/"
        },
        "outputId": "da2a89ba-f874-446c-919b-6427108df6bb"
      },
      "source": [
        "!git clone https://github.com/gyulukeyi/DeepKLM.git"
      ],
      "execution_count": null,
      "outputs": [
        {
          "output_type": "stream",
          "name": "stdout",
          "text": [
            "Cloning into 'DeepKLM'...\n",
            "remote: Enumerating objects: 136, done.\u001b[K\n",
            "remote: Counting objects: 100% (136/136), done.\u001b[K\n",
            "remote: Compressing objects: 100% (111/111), done.\u001b[K\n",
            "remote: Total 136 (delta 30), reused 130 (delta 24), pack-reused 0\u001b[K\n",
            "Receiving objects: 100% (136/136), 27.97 MiB | 14.00 MiB/s, done.\n",
            "Resolving deltas: 100% (30/30), done.\n"
          ]
        }
      ]
    },
    {
      "cell_type": "code",
      "metadata": {
        "id": "KZGUdBc5QrfV",
        "colab": {
          "base_uri": "https://localhost:8080/"
        },
        "outputId": "17bf5a4c-ec38-4e21-a80c-1c3e099e4b91"
      },
      "source": [
        "%cd DeepKLM"
      ],
      "execution_count": null,
      "outputs": [
        {
          "output_type": "stream",
          "name": "stdout",
          "text": [
            "/content/DeepKLM\n"
          ]
        }
      ]
    },
    {
      "cell_type": "code",
      "metadata": {
        "scrolled": true,
        "id": "ebHAwngDQemz"
      },
      "source": [
        "!bash ./scripts/setup.sh"
      ],
      "execution_count": null,
      "outputs": []
    },
    {
      "cell_type": "code",
      "metadata": {
        "tags": [],
        "id": "R2NsztxJQemz"
      },
      "source": [
        "import torch\n",
        "import sys\n",
        "\n",
        "import pandas as pd\n",
        "\n",
        "from sys import platform\n",
        "from os import path\n",
        "from torch import device\n",
        "from transformers import AdamW, BertConfig, BertModel, BertTokenizer, BertForMaskedLM, AutoTokenizer, AutoModelForMaskedLM\n",
        "from bertviz_lin.pytorch_pretrained_bert import BertForTokenClassification"
      ],
      "execution_count": 37,
      "outputs": []
    },
    {
      "cell_type": "code",
      "metadata": {
        "tags": [],
        "id": "R_jFprfNQem0",
        "colab": {
          "base_uri": "https://localhost:8080/"
        },
        "outputId": "51b59427-cdf3-4b1f-f32e-94916e99eae8"
      },
      "source": [
        "if torch.cuda.is_available():    \n",
        "    device = torch.device(\"cuda\")\n",
        "    print('There are %d GPU(s) available.' % torch.cuda.device_count())\n",
        "    print('We will use the GPU:', torch.cuda.get_device_name(0))\n",
        "\n",
        "else:\n",
        "    print('No GPU available, using the CPU instead.')\n",
        "    device = torch.device(\"cpu\")"
      ],
      "execution_count": 6,
      "outputs": [
        {
          "output_type": "stream",
          "name": "stdout",
          "text": [
            "No GPU available, using the CPU instead.\n"
          ]
        }
      ]
    },
    {
      "cell_type": "markdown",
      "metadata": {
        "id": "7TdQ1T1zQem0"
      },
      "source": [
        "## 모델 불러오기"
      ]
    },
    {
      "cell_type": "markdown",
      "metadata": {
        "id": "t0QQp8q0Qem0"
      },
      "source": [
        "### 영어\n",
        "\n",
        "BERT(large, uncased)를 불러옵니다."
      ]
    },
    {
      "cell_type": "code",
      "metadata": {
        "id": "TkVpUrJjQem1"
      },
      "source": [
        "model_name_eng = 'bert-large-uncased'\n",
        "tokenizer_eng = BertTokenizer.from_pretrained(model_name_eng)\n",
        "model_eng = BertForMaskedLM.from_pretrained(model_name_eng, output_attentions=True)\n",
        "\n",
        "#model_eng = BertForTokenClassification.from_pretrained('bert-large-uncased', num_labels=2)\n"
      ],
      "execution_count": null,
      "outputs": []
    },
    {
      "cell_type": "markdown",
      "metadata": {
        "id": "EI0nEC59Qem1"
      },
      "source": [
        "### 한국어\n",
        "KR-BERT를 불러옵니다."
      ]
    },
    {
      "cell_type": "code",
      "metadata": {
        "tags": [],
        "id": "Joy0j8KRQem1",
        "colab": {
          "base_uri": "https://localhost:8080/"
        },
        "outputId": "36cb56cc-3743-41d4-8b67-4bda1f53469b"
      },
      "source": [
        "model_name_kr= \"snunlp/KR-BERT-char16424\" #huggingface 설명명 다시 한번 간단하게만만 진행\n",
        "tokenizer_kr = BertTokenizer.from_pretrained(model_na me_kr, do_lower_case=False)\n",
        "model_kr =BertForMaskedLM.from_pretrained(model_name_kr, output_attentions=True)"
      ],
      "execution_count": 43,
      "outputs": [
        {
          "output_type": "stream",
          "name": "stderr",
          "text": [
            "Some weights of the model checkpoint at snunlp/KR-BERT-char16424 were not used when initializing BertForMaskedLM: ['cls.seq_relationship.weight', 'cls.seq_relationship.bias']\n",
            "- This IS expected if you are initializing BertForMaskedLM from the checkpoint of a model trained on another task or with another architecture (e.g. initializing a BertForSequenceClassification model from a BertForPreTraining model).\n",
            "- This IS NOT expected if you are initializing BertForMaskedLM from the checkpoint of a model that you expect to be exactly identical (initializing a BertForSequenceClassification model from a BertForSequenceClassification model).\n"
          ]
        }
      ]
    },
    {
      "cell_type": "markdown",
      "metadata": {
        "id": "tn_DlfAXQem5"
      },
      "source": [
        "## 주의할 점\n",
        "\n",
        "- 컴퓨터의 입장에서 최소대립쌍이 맞는지 확인하여야 합니다.\n",
        "    - 가령, 철수는 자신을/자기를 사랑한다.에서, \n",
        "    - 자신, 자기만 바뀐 것이 아니라\n",
        "    - 을/를 토큰 또한 바뀌었기 떄문에\n",
        "    - 최소대립쌍이 아닙니다.\n",
        "- 버트에 \"등록된\" 단어인지 확인하여야 합니다.\n",
        "    - 효율성을 위해 버트는 '바이트 페어 인코딩'이라는 것을 수행합니다.\n",
        "    - 따라서, 단어가 (형태소와는 상관 없는) 단어보다 작은 단위로 나누어서 등록되어 있을 수 있습니다.\n",
        "    - 키워드가 \\[UNK\\]로 인식되지 않았는지 확인하셔야 합니다."
      ]
    },
    {
      "cell_type": "markdown",
      "metadata": {
        "id": "89UBgK_VQem2"
      },
      "source": [
        "# (1차원) 요인설계실험"
      ]
    },
    {
      "cell_type": "markdown",
      "metadata": {
        "id": "-Vtq57rrQem2"
      },
      "source": [
        "## 텍스트 설정"
      ]
    },
    {
      "cell_type": "markdown",
      "metadata": {
        "id": "i4lX6u7QQem2"
      },
      "source": [
        "* 사용법\n",
        "    * 공통되는 토큰을 [MASK]로 치환합니다.\n",
        "    * 입력으로 들어가는 토큰을 키워드로 지정합니다."
      ]
    },
    {
      "cell_type": "code",
      "metadata": {
        "id": "OwzwSegIQem3"
      },
      "source": [
        "text = \"\"\"\n",
        "철수가 영희[MASK] 좋아한다.\"\"\""
      ],
      "execution_count": 10,
      "outputs": []
    },
    {
      "cell_type": "markdown",
      "metadata": {
        "id": "lDN5F3KlQem3"
      },
      "source": [
        "## Surprisal"
      ]
    },
    {
      "cell_type": "code",
      "metadata": {
        "scrolled": true,
        "id": "lZ9XF9YMQem3",
        "colab": {
          "base_uri": "https://localhost:8080/"
        },
        "outputId": "2570c34a-5289-4828-e54d-9663621a0d39"
      },
      "source": [
        "bert_token_surprisal(text, [\"을\", \"를\"], model_kr, tokenizer_kr, device)"
      ],
      "execution_count": 44,
      "outputs": [
        {
          "output_type": "stream",
          "name": "stdout",
          "text": [
            "Experimenting sentences:\n",
            "\n",
            "철수가 영희[MASK] 좋아한다.\n",
            "철수는 영희[MASK] 좋아한다.\n",
            "Experimenting words: 을 를 \n",
            "\n",
            "Tokenization result: \n",
            "['[CLS]', '철수', '##가', '영', '##희', '[MASK]', '좋아', '##한다', '.', '[SEP]']\n",
            "\n",
            "Recognized Words: 을 를 \n",
            "17.773056  을\n",
            "13.31683  를\n",
            "\n",
            "\n",
            "Tokenization result: \n",
            "['[CLS]', '철수', '##는', '영', '##희', '[MASK]', '좋아', '##한다', '.', '[SEP]']\n",
            "\n",
            "Recognized Words: 을 를 \n",
            "17.566628  을\n",
            "13.3926525  를\n",
            "\n",
            "\n",
            "\n"
          ]
        },
        {
          "output_type": "execute_result",
          "data": {
            "text/plain": [
              "[(' 철수가 영희 [MASK] 좋아한다. ', '을', 17.773056),\n",
              " (' 철수가 영희 [MASK] 좋아한다. ', '를', 13.31683),\n",
              " (' 철수는 영희 [MASK] 좋아한다. ', '을', 17.566628),\n",
              " (' 철수는 영희 [MASK] 좋아한다. ', '를', 13.3926525)]"
            ]
          },
          "metadata": {},
          "execution_count": 44
        }
      ]
    },
    {
      "cell_type": "markdown",
      "metadata": {
        "id": "Lce0YQhVQem3"
      },
      "source": [
        "# (2차원) 요인설계실험"
      ]
    },
    {
      "cell_type": "markdown",
      "metadata": {
        "id": "D3rGbyJ2Qem3"
      },
      "source": [
        "## 텍스트 설정"
      ]
    },
    {
      "cell_type": "markdown",
      "metadata": {
        "id": "hKGnjsH9Qem4"
      },
      "source": [
        "* 사용법\n",
        "    * 공통되는 토큰을 [MASK]로 치환합니다.\n",
        "    * 입력으로 들어가는 토큰을 키워드로 지정합니다."
      ]
    },
    {
      "cell_type": "code",
      "metadata": {
        "id": "wDgvo2x7Qem4"
      },
      "source": [
        "text = \"\"\"\n",
        "철수가 영희[MASK] 좋아한다.\n",
        "철수는 영희[MASK] 좋아한다.\"\"\""
      ],
      "execution_count": 12,
      "outputs": []
    },
    {
      "cell_type": "markdown",
      "metadata": {
        "id": "59V5kcfpQem4"
      },
      "source": [
        "## Surprisal"
      ]
    },
    {
      "cell_type": "code",
      "metadata": {
        "scrolled": false,
        "id": "CyJbbwjoQem4",
        "colab": {
          "base_uri": "https://localhost:8080/"
        },
        "outputId": "929c7273-0119-4788-e762-119bc6d19d04"
      },
      "source": [
        "bert_token_surprisal(text, [\"을\", \"를\"], model_kr, tokenizer_kr, device)"
      ],
      "execution_count": 45,
      "outputs": [
        {
          "output_type": "stream",
          "name": "stdout",
          "text": [
            "Experimenting sentences:\n",
            "\n",
            "철수가 영희[MASK] 좋아한다.\n",
            "철수는 영희[MASK] 좋아한다.\n",
            "Experimenting words: 을 를 \n",
            "\n",
            "Tokenization result: \n",
            "['[CLS]', '철수', '##가', '영', '##희', '[MASK]', '좋아', '##한다', '.', '[SEP]']\n",
            "\n",
            "Recognized Words: 을 를 \n",
            "17.773056  을\n",
            "13.31683  를\n",
            "\n",
            "\n",
            "Tokenization result: \n",
            "['[CLS]', '철수', '##는', '영', '##희', '[MASK]', '좋아', '##한다', '.', '[SEP]']\n",
            "\n",
            "Recognized Words: 을 를 \n",
            "17.566628  을\n",
            "13.3926525  를\n",
            "\n",
            "\n",
            "\n"
          ]
        },
        {
          "output_type": "execute_result",
          "data": {
            "text/plain": [
              "[(' 철수가 영희 [MASK] 좋아한다. ', '을', 17.773056),\n",
              " (' 철수가 영희 [MASK] 좋아한다. ', '를', 13.31683),\n",
              " (' 철수는 영희 [MASK] 좋아한다. ', '을', 17.566628),\n",
              " (' 철수는 영희 [MASK] 좋아한다. ', '를', 13.3926525)]"
            ]
          },
          "metadata": {},
          "execution_count": 45
        }
      ]
    },
    {
      "cell_type": "markdown",
      "metadata": {
        "id": "ux-O97ASn3Rj"
      },
      "source": [
        "# 여러 문장의의 Surprisal 확인하기"
      ]
    },
    {
      "cell_type": "code",
      "execution_count": 46,
      "metadata": {
        "id": "dwWNi6-UQ228"
      },
      "outputs": [],
      "source": [
        "LANGUAGE = \"Korean\""
      ]
    },
    {
      "cell_type": "code",
      "execution_count": 49,
      "metadata": {
        "id": "K9HMd3Nan3Rq"
      },
      "outputs": [],
      "source": [
        "if LANGUAGE.lower() == \"korean\":\n",
        "  model_name = model_name_kr\n",
        "  tokenizer = tokenizer_kr\n",
        "\n",
        "elif LANGUAGE.lower() == \"english\":\n",
        "  model_name = model_name_eng\n",
        "  tokenizer = tokenizer_eng\n",
        "\n",
        "else:\n",
        "  print(\"이번 튜토리얼에서는는 한국어와 영어어 데이터만을을 다룹니다.\")"
      ]
    },
    {
      "cell_type": "markdown",
      "metadata": {
        "id": "XD2lOc-fn3Ru"
      },
      "source": [
        "## Loading the data"
      ]
    },
    {
      "cell_type": "code",
      "execution_count": 28,
      "metadata": {
        "id": "FQd07XM6n3Rv"
      },
      "outputs": [],
      "source": [
        "filename = \"/content/input.txt\""
      ]
    },
    {
      "cell_type": "code",
      "execution_count": 29,
      "metadata": {
        "id": "87VJVX2Gn3Rw"
      },
      "outputs": [],
      "source": [
        " with open(filename) as f:\n",
        "        lines = f.readlines()"
      ]
    },
    {
      "cell_type": "markdown",
      "metadata": {
        "id": "P-D4G4f1n3Rz"
      },
      "source": [
        "## Calcuating\n",
        "\n",
        "The result will be saved as `output_name`."
      ]
    },
    {
      "cell_type": "code",
      "execution_count": 35,
      "metadata": {
        "id": "GQA4LMudQ22-"
      },
      "outputs": [],
      "source": [
        "output_name = \"/content/output.txt\""
      ]
    },
    {
      "cell_type": "code",
      "execution_count": 36,
      "metadata": {
        "id": "lXJOSJT9n3Rz"
      },
      "outputs": [],
      "source": [
        "f = open(output_name, 'w')\n",
        "f.write(\"IDX\\tSEN\\tITEM1\\tITEM2\\n\")\n",
        "for i in range(1, len(lines)):\n",
        "  line = lines[i].strip()\n",
        "  if i % 10 == 0: print(i)\n",
        "  each = line.split(\"\\t\")\n",
        "  result = bert_token_surprisal(each[1].strip(), [each[2].strip(), each[3].strip()], mask_model, tokenizer, device, printing=False)\n",
        "  scores = \"\"\n",
        "  for res in result:\n",
        "    scores += str(res[2])\n",
        "    scores += \"\\t\"    \n",
        "  f.write(each[0] + \"\\t\" + each[1] +  \"\\t\" + scores.strip() + \"\\n\")\n",
        "f.close()"
      ]
    },
    {
      "cell_type": "markdown",
      "metadata": {
        "id": "mCXUN7-sQ22-"
      },
      "source": [
        "## Converting to xlsx\n",
        "\n",
        "- Convert the output_file to xlsx to be read with MS Office Excel"
      ]
    },
    {
      "cell_type": "code",
      "execution_count": 38,
      "metadata": {
        "id": "exG5mbF3Q22-"
      },
      "outputs": [],
      "source": [
        "df = pd.read_csv(output_name, sep='\\t', index_col=0, header=0)"
      ]
    },
    {
      "cell_type": "code",
      "execution_count": 41,
      "metadata": {
        "id": "MnUD2xV1Q22_"
      },
      "outputs": [],
      "source": [
        "excel_name = path.splitext(output_name)[0] + '.xlsx'\n",
        "df.to_excel(excel_name)"
      ]
    }
  ]
}