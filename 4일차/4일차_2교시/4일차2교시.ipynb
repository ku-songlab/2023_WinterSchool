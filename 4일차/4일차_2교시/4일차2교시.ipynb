{
  "cells": [
    {
      "cell_type": "markdown",
      "metadata": {
        "id": "jS2uAco-Qemx"
      },
      "source": [
        "# Surprisal 실습"
      ]
    },
    {
      "cell_type": "markdown",
      "metadata": {
        "id": "SF1rS12-Qemy"
      },
      "source": [
        "## 초기 설정\n",
        "\n",
        "아래 셀을 실행하여 초기 설정을 수행해 주세요."
      ]
    },
    {
      "cell_type": "code",
      "execution_count": null,
      "metadata": {
        "id": "ebHAwngDQemz",
        "scrolled": true,
        "vscode": {
          "languageId": "python"
        }
      },
      "outputs": [],
      "source": [
        "!bash /content/setup.sh"
      ]
    },
    {
      "cell_type": "code",
      "execution_count": 2,
      "metadata": {
        "id": "R2NsztxJQemz",
        "tags": [],
        "vscode": {
          "languageId": "python"
        }
      },
      "outputs": [],
      "source": [
        "import torch\n",
        "import sys\n",
        "\n",
        "import pandas as pd\n",
        "\n",
        "from sys import platform\n",
        "from os import path\n",
        "from torch import device\n",
        "from transformers import BertTokenizer, BertForMaskedLM\n",
        "from tqdm import tqdm\n",
        "from surprisal import bert_token_surprisal"
      ]
    },
    {
      "cell_type": "code",
      "execution_count": null,
      "metadata": {
        "id": "R_jFprfNQem0",
        "tags": [],
        "vscode": {
          "languageId": "python"
        }
      },
      "outputs": [],
      "source": [
        "if torch.cuda.is_available():    \n",
        "    device = torch.device(\"cuda\")\n",
        "    print('There are %d GPU(s) available.' % torch.cuda.device_count())\n",
        "    print('We will use the GPU:', torch.cuda.get_device_name(0))\n",
        "\n",
        "else:\n",
        "    print('No GPU available, using the CPU instead.')\n",
        "    device = torch.device(\"cpu\")"
      ]
    },
    {
      "cell_type": "markdown",
      "metadata": {
        "id": "7TdQ1T1zQem0"
      },
      "source": [
        "## 모델 불러오기"
      ]
    },
    {
      "cell_type": "markdown",
      "metadata": {
        "id": "t0QQp8q0Qem0"
      },
      "source": [
        "### 영어\n",
        "\n",
        "BERT(large, uncased)를 불러옵니다."
      ]
    },
    {
      "cell_type": "code",
      "execution_count": null,
      "metadata": {
        "id": "TkVpUrJjQem1",
        "vscode": {
          "languageId": "python"
        }
      },
      "outputs": [],
      "source": [
        "model_name_eng = 'bert-large-uncased'\n",
        "tokenizer_eng = BertTokenizer.from_pretrained(model_name_eng)\n",
        "model_eng = BertForMaskedLM.from_pretrained(model_name_eng, output_attentions=True)"
      ]
    },
    {
      "cell_type": "markdown",
      "metadata": {
        "id": "EI0nEC59Qem1"
      },
      "source": [
        "### 한국어\n",
        "KR-BERT를 불러옵니다."
      ]
    },
    {
      "cell_type": "code",
      "execution_count": null,
      "metadata": {
        "id": "Joy0j8KRQem1",
        "tags": [],
        "vscode": {
          "languageId": "python"
        }
      },
      "outputs": [],
      "source": [
        "model_name_kr= \"snunlp/KR-BERT-char16424\"\n",
        "tokenizer_kr = BertTokenizer.from_pretrained(model_name_kr, do_lower_case=False)\n",
        "model_kr =BertForMaskedLM.from_pretrained(model_name_kr, output_attentions=True)"
      ]
    },
    {
      "cell_type": "markdown",
      "metadata": {
        "id": "89UBgK_VQem2"
      },
      "source": [
        "# (1차원) 요인설계실험"
      ]
    },
    {
      "cell_type": "markdown",
      "metadata": {
        "id": "-Vtq57rrQem2"
      },
      "source": [
        "## 텍스트 설정"
      ]
    },
    {
      "cell_type": "markdown",
      "metadata": {
        "id": "i4lX6u7QQem2"
      },
      "source": [
        "* 사용법\n",
        "    * 공통되는 토큰을 [MASK]로 치환합니다.\n",
        "    * 입력으로 들어가는 토큰을 키워드로 지정합니다."
      ]
    },
    {
      "cell_type": "code",
      "execution_count": null,
      "metadata": {
        "id": "OwzwSegIQem3",
        "vscode": {
          "languageId": "python"
        }
      },
      "outputs": [],
      "source": [
        "text = \"\"\"\n",
        "철수가 영희[MASK] 사랑한다.\"\"\""
      ]
    },
    {
      "cell_type": "markdown",
      "metadata": {
        "id": "lDN5F3KlQem3"
      },
      "source": [
        "## Surprisal"
      ]
    },
    {
      "cell_type": "code",
      "execution_count": null,
      "metadata": {
        "id": "lZ9XF9YMQem3",
        "scrolled": true,
        "vscode": {
          "languageId": "python"
        }
      },
      "outputs": [],
      "source": [
        "bert_token_surprisal(text, [\"##을\", \"##를\"], model_kr, tokenizer_kr, device)"
      ]
    },
    {
      "cell_type": "markdown",
      "metadata": {
        "id": "Isgx8J4Z08ID"
      },
      "source": [
        "## 영어 텍스트 설정"
      ]
    },
    {
      "cell_type": "code",
      "execution_count": 5,
      "metadata": {
        "id": "h7BBVpw107Tl",
        "vscode": {
          "languageId": "python"
        }
      },
      "outputs": [],
      "source": [
        "text = \"\"\"\n",
        "John [MASK] Mary\"\"\""
      ]
    },
    {
      "cell_type": "markdown",
      "metadata": {
        "id": "FLucsFJW1X6F"
      },
      "source": [
        "## Surprisal"
      ]
    },
    {
      "cell_type": "code",
      "execution_count": null,
      "metadata": {
        "id": "R6gfL0mz07qP",
        "vscode": {
          "languageId": "python"
        }
      },
      "outputs": [],
      "source": [
        "bert_token_surprisal(text, [\"love\", \"loves\"], model_eng, tokenizer_eng, device)"
      ]
    },
    {
      "cell_type": "markdown",
      "metadata": {
        "id": "Lce0YQhVQem3"
      },
      "source": [
        "# (2차원) 요인설계실험"
      ]
    },
    {
      "cell_type": "markdown",
      "metadata": {
        "id": "D3rGbyJ2Qem3"
      },
      "source": [
        "## 텍스트 설정"
      ]
    },
    {
      "cell_type": "markdown",
      "metadata": {
        "id": "hKGnjsH9Qem4"
      },
      "source": [
        "* 사용법\n",
        "    * 공통되는 토큰을 [MASK]로 치환합니다.\n",
        "    * 입력으로 들어가는 토큰을 키워드로 지정합니다."
      ]
    },
    {
      "cell_type": "code",
      "execution_count": null,
      "metadata": {
        "id": "wDgvo2x7Qem4",
        "vscode": {
          "languageId": "python"
        }
      },
      "outputs": [],
      "source": [
        "text = \"\"\"\n",
        "철수가 영희[MASK] 좋아한다.\n",
        "철수는 영희[MASK] 좋아한다.\"\"\""
      ]
    },
    {
      "cell_type": "markdown",
      "metadata": {
        "id": "59V5kcfpQem4"
      },
      "source": [
        "## Surprisal"
      ]
    },
    {
      "cell_type": "code",
      "execution_count": null,
      "metadata": {
        "id": "CyJbbwjoQem4",
        "scrolled": false,
        "vscode": {
          "languageId": "python"
        }
      },
      "outputs": [],
      "source": [
        "bert_token_surprisal(text, [\"##을\", \"##를\"], model_kr, tokenizer_kr, device)"
      ]
    },
    {
      "cell_type": "markdown",
      "metadata": {
        "id": "iCucnrOz270i"
      },
      "source": [
        "## 영어 텍스트 설정"
      ]
    },
    {
      "cell_type": "code",
      "execution_count": 11,
      "metadata": {
        "id": "udkTPYnc253M",
        "vscode": {
          "languageId": "python"
        }
      },
      "outputs": [],
      "source": [
        "text = \"\"\"\n",
        "I know [MASK] he ate yesterday.\n",
        "I know [MASK] he ate pancakes yesterday\"\"\""
      ]
    },
    {
      "cell_type": "markdown",
      "metadata": {
        "id": "OTPkLt5G2-Pd"
      },
      "source": [
        "## Surprisal"
      ]
    },
    {
      "cell_type": "code",
      "execution_count": null,
      "metadata": {
        "id": "BsjpMxny3AEq",
        "vscode": {
          "languageId": "python"
        }
      },
      "outputs": [],
      "source": [
        "bert_token_surprisal(text, [\"what\", \"that\"], model_eng, tokenizer_eng, device)"
      ]
    },
    {
      "cell_type": "markdown",
      "metadata": {
        "id": "ux-O97ASn3Rj"
      },
      "source": [
        "# 여러 문장의의 Surprisal 확인하기"
      ]
    },
    {
      "cell_type": "code",
      "execution_count": 6,
      "metadata": {
        "id": "dwWNi6-UQ228",
        "vscode": {
          "languageId": "python"
        }
      },
      "outputs": [],
      "source": [
        "LANGUAGE = \"Korean\""
      ]
    },
    {
      "cell_type": "code",
      "execution_count": 7,
      "metadata": {
        "id": "K9HMd3Nan3Rq",
        "vscode": {
          "languageId": "python"
        }
      },
      "outputs": [],
      "source": [
        "if LANGUAGE.lower() == \"korean\":\n",
        "  model_name = model_kr\n",
        "  tokenizer = tokenizer_kr\n",
        "\n",
        "elif LANGUAGE.lower() == \"english\":\n",
        "  model_name = model_eng\n",
        "  tokenizer = tokenizer_eng\n",
        "\n",
        "else:\n",
        "  print(\"이번 튜토리얼에서는는 한국어와 영어어 데이터만을을 다룹니다.\")"
      ]
    },
    {
      "cell_type": "markdown",
      "metadata": {
        "id": "XD2lOc-fn3Ru"
      },
      "source": [
        "## 데이터 불러오기"
      ]
    },
    {
      "cell_type": "code",
      "execution_count": 12,
      "metadata": {
        "id": "FQd07XM6n3Rv",
        "vscode": {
          "languageId": "python"
        }
      },
      "outputs": [],
      "source": [
        "filename = \"/content/non_acc.xlsx\"\n",
        "\n",
        "output_name = \"/\" + path.splitext(filename)[0] + \"_output.txt\"\n",
        "lines = pd.read_excel(filename, index_col=\"IDX\")"
      ]
    },
    {
      "cell_type": "markdown",
      "metadata": {
        "id": "P-D4G4f1n3Rz"
      },
      "source": [
        "## 계산 진행하기"
      ]
    },
    {
      "cell_type": "code",
      "execution_count": null,
      "metadata": {
        "colab": {
          "base_uri": "https://localhost:8080/"
        },
        "id": "Mp3h0I_idqzU",
        "outputId": "7c32730b-b15e-4757-d738-5979068c9304",
        "vscode": {
          "languageId": "python"
        }
      },
      "outputs": [],
      "source": [
        "f = open(output_name, 'w')\n",
        "\n",
        "f.write(\"IDX\")\n",
        "f.write(\"\\tSEN\")\n",
        "for i in range(len(lines.columns)):\n",
        "  if i == 0:\n",
        "    continue\n",
        "  elif i == len(lines.columns)-1:\n",
        "    item = \"\\tITEM{}\".format(i)\n",
        "    f.write(item + \"\\n\")\n",
        "  else:\n",
        "    item = \"\\tITEM{}\".format(i)\n",
        "    f.write(item)\n",
        "\n",
        "for index, line in tqdm(lines.iterrows()):\n",
        "    each = line.to_list()\n",
        "    text = each[0].strip()\n",
        "    keywords = []\n",
        "    for i in range(len(each)):\n",
        "      if i == 0:\n",
        "        continue\n",
        "      keyword = each[i].strip()\n",
        "      keywords.append(keyword)\n",
        "      \n",
        "    result = bert_token_surprisal(text, keywords,  model_name, tokenizer, device, printing=False)\n",
        "    scores = \"\"\n",
        "    \n",
        "    for res in result:\n",
        "      scores += str(res[2])\n",
        "      scores += \"\\t\"    \n",
        "    f.write(str(index) + \"\\t\" + each[0] + \"\\t\" + scores.strip() + \"\\n\")\n",
        "  \n",
        "f.close()"
      ]
    },
    {
      "cell_type": "markdown",
      "metadata": {
        "id": "mCXUN7-sQ22-"
      },
      "source": [
        "## 결과 파일을 엑셀로 변환하기"
      ]
    },
    {
      "cell_type": "code",
      "execution_count": 14,
      "metadata": {
        "id": "exG5mbF3Q22-",
        "vscode": {
          "languageId": "python"
        }
      },
      "outputs": [],
      "source": [
        "df = pd.read_csv(output_name, sep='\\t', index_col=0, header=0)"
      ]
    },
    {
      "cell_type": "code",
      "execution_count": 15,
      "metadata": {
        "id": "MnUD2xV1Q22_",
        "vscode": {
          "languageId": "python"
        }
      },
      "outputs": [],
      "source": [
        "excel_name = path.splitext(output_name)[0] + '.xlsx'\n",
        "df.to_excel(excel_name)"
      ]
    }
  ],
  "metadata": {
    "accelerator": "GPU",
    "colab": {
      "provenance": []
    },
    "gpuClass": "standard",
    "kernelspec": {
      "display_name": "Python 3",
      "name": "python3"
    }
  },
  "nbformat": 4,
  "nbformat_minor": 0
}
