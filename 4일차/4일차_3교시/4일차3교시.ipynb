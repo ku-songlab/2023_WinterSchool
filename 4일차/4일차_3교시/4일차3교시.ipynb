{
  "nbformat": 4,
  "nbformat_minor": 0,
  "metadata": {
    "colab": {
      "provenance": []
    },
    "kernelspec": {
      "name": "python3",
      "display_name": "Python 3"
    },
    "language_info": {
      "name": "python"
    }
  },
  "cells": [
    {
      "cell_type": "code",
      "source": [
        "pip install Korpora==0.2.0rc1"
      ],
      "metadata": {
        "id": "hQC_Brm1xWr7"
      },
      "execution_count": null,
      "outputs": []
    },
    {
      "cell_type": "code",
      "source": [
        "from Korpora import Korpora\n",
        "Korpora.corpus_list()"
      ],
      "metadata": {
        "id": "xzbQXFTnxbuB"
      },
      "execution_count": null,
      "outputs": []
    },
    {
      "cell_type": "code",
      "execution_count": null,
      "metadata": {
        "id": "5nxjNoktv9EW"
      },
      "outputs": [],
      "source": [
        "from Korpora import Korpora\n",
        "Korpora.fetch(\"korsts\")"
      ]
    },
    {
      "cell_type": "code",
      "source": [
        "from Korpora import KorSTSKorpus\n",
        "corpus = KorSTSKorpus()"
      ],
      "metadata": {
        "id": "hg40AJtLJwSF"
      },
      "execution_count": null,
      "outputs": []
    },
    {
      "cell_type": "code",
      "source": [
        "corpus.train[17]"
      ],
      "metadata": {
        "id": "Cwe-9idxxHEk"
      },
      "execution_count": null,
      "outputs": []
    },
    {
      "cell_type": "code",
      "source": [
        "corpus.train[17].text"
      ],
      "metadata": {
        "id": "dAeU3rYEL29H"
      },
      "execution_count": null,
      "outputs": []
    },
    {
      "cell_type": "code",
      "source": [
        "corpus.train[17].label"
      ],
      "metadata": {
        "id": "8-vECxBlL89-"
      },
      "execution_count": null,
      "outputs": []
    },
    {
      "cell_type": "code",
      "source": [
        "corpus.get_all_texts()"
      ],
      "metadata": {
        "id": "ZnmzXpohMeUb"
      },
      "execution_count": null,
      "outputs": []
    },
    {
      "cell_type": "code",
      "source": [
        "corpus.get_all_pairs()"
      ],
      "metadata": {
        "id": "Imuf-xJhMHiq"
      },
      "execution_count": null,
      "outputs": []
    }
  ]
}